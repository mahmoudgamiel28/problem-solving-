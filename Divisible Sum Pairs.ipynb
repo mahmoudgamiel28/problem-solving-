{
 "cells": [
  {
   "cell_type": "markdown",
   "metadata": {},
   "source": [
    "Given an array of integers and a positive integer , determine the number of  pairs where  and $ar[i] + ar[j]$  is divisible by $k$.\n",
    "\n",
    "**Example**\n",
    "\n",
    "$ar =[1,2,3,4,5,6]$\n",
    "\n",
    "$k = 5$\n",
    "\n",
    "Three pairs meet the criteria:$[1,4], [2,3],$  and $ [4,6]$ .\n",
    "\n",
    "**Function Description**\n",
    "\n",
    "Complete the *divisibleSumPairs* function in the editor below.\n",
    "\n",
    "divisibleSumPairs has the following parameter(s):\n",
    "\n",
    "- *int n:* the length of array $ar$\n",
    "- *int ar[n]:* an array of integers\n",
    "- *int k:* the integer divisor\n",
    "\n",
    "**Returns**  \n",
    "- *int:* the number of pairs\n",
    "\n",
    "**Input Format**\n",
    "\n",
    "The first line contains $2$ space-separated integers, $n$ and $k$.  \n",
    "The second line contains $n$ space-separated integers, each a value of $arr[i]$ .\n",
    "\n",
    "**Sample Input**\n",
    "\n",
    "```\n",
    "STDIN           Function\n",
    "-----           --------\n",
    "6 3             n = 6, k = 3\n",
    "1 3 2 6 1 2     ar = [1, 3, 2, 6, 1, 2]\n",
    "```\n",
    "\n",
    "**Sample Output**\n",
    "\n",
    "\n",
    " <code>5</code>\n",
    "\n",
    "**Explanation**\n",
    "\n",
    "Here are the $5$ valid pairs when $k = 3$:\n",
    "\n",
    "- $(0,2) : ar[0] + ar[2] = 1 + 2 = 3$\n",
    "\n",
    "- $(0,5) : ar[0] + ar[5] = 1 + 2 = 3$\n",
    "\n",
    "- $(1,3) : ar[1] + ar[3] = 3 + 6 = 9$\n",
    "\n",
    "- $(2,4) : ar[2] + ar[4] = 2 + 1 = 3$\n",
    "\n",
    "- $(4,5) : ar[4] + ar[5] = 1 + 2 = 3$\n",
    "\n",
    "\n",
    "\n",
    "\n"
   ]
  },
  {
   "cell_type": "code",
   "execution_count": 5,
   "metadata": {},
   "outputs": [],
   "source": [
    "def divisibleSumPairs(n, k, ar):\n",
    "    count = 0\n",
    "    for i in range(n):\n",
    "        for j in range(i+1,n):\n",
    "            if((ar[i]+ar[j])%k==0):\n",
    "                count+=1\n",
    "                \n",
    "    return count  "
   ]
  },
  {
   "cell_type": "code",
   "execution_count": 6,
   "metadata": {},
   "outputs": [
    {
     "name": "stdout",
     "output_type": "stream",
     "text": [
      "3\n"
     ]
    }
   ],
   "source": [
    "𝑎𝑟=[1,2,3,4,5,6]\n",
    "𝑘=5\n",
    "n = 6\n",
    "print(divisibleSumPairs(n, k, ar))"
   ]
  }
 ],
 "metadata": {
  "kernelspec": {
   "display_name": "Python 3",
   "language": "python",
   "name": "python3"
  },
  "language_info": {
   "codemirror_mode": {
    "name": "ipython",
    "version": 3
   },
   "file_extension": ".py",
   "mimetype": "text/x-python",
   "name": "python",
   "nbconvert_exporter": "python",
   "pygments_lexer": "ipython3",
   "version": "3.7.6"
  }
 },
 "nbformat": 4,
 "nbformat_minor": 4
}
