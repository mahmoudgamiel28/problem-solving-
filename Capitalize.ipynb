{
 "cells": [
  {
   "cell_type": "markdown",
   "metadata": {},
   "source": [
    "You are asked to ensure that the first and last names of people begin with a capital letter in their passports. For example, `alison heck` should be capitalised correctly as `Alison Heck`.\n",
    "\n",
    "<mark>a</mark>$lison$ <mark>h</mark>$eck$  ==> $Alison$ $Heck$\n",
    "\n",
    "Given a full name, your task is to *capitalize* the name appropriately.\n",
    "\n",
    "**Input Format**\n",
    "\n",
    "A single line of input containing the full name, .\n",
    "\n",
    "**Constraints**\n",
    "\n",
    "$0 < len(s) < 1000$\n",
    "\n",
    "- The string consists of alphanumeric characters and spaces.\n",
    "\n",
    "**Note:** in a word only the first character is capitalized. Example 12abc when capitalized remains 12abc.\n",
    "\n",
    "**Output Format**\n",
    "\n",
    "Print the capitalized string, $s$ .\n",
    "\n",
    "**Sample Input**\n",
    "\n",
    "```\n",
    "chris alan\n",
    "```\n",
    "\n",
    "**Sample Output**\n",
    "\n",
    "```\n",
    "Chris Alan\n",
    "```\n"
   ]
  },
  {
   "cell_type": "code",
   "execution_count": null,
   "metadata": {},
   "outputs": [],
   "source": [
    "# Complete the solve function below.\n",
    "def solve(s):\n",
    "    for x in s[:].split():\n",
    "        s = s.replace(x, x.capitalize())\n",
    "    return s"
   ]
  }
 ],
 "metadata": {
  "kernelspec": {
   "display_name": "Python 3",
   "language": "python",
   "name": "python3"
  },
  "language_info": {
   "codemirror_mode": {
    "name": "ipython",
    "version": 3
   },
   "file_extension": ".py",
   "mimetype": "text/x-python",
   "name": "python",
   "nbconvert_exporter": "python",
   "pygments_lexer": "ipython3",
   "version": "3.7.6"
  }
 },
 "nbformat": 4,
 "nbformat_minor": 4
}
