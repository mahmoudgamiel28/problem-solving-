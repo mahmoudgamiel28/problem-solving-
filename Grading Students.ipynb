{
 "cells": [
  {
   "cell_type": "markdown",
   "metadata": {},
   "source": [
    "HackerLand University has the following grading policy:\n",
    "\n",
    "- Every student receives a $grade$ in the inclusive range from $0$ to $100$ .\n",
    "- Any $grade$ less than $40$ is a failing grade.\n",
    "\n",
    "Sam is a professor at the university and likes to round each student's $grade$ according to these rules:\n",
    "\n",
    "- If the difference between the $grade$ and the next multiple of $5$ is less than $3$, round  up to the next multiple of $5$.\n",
    "- If the value of  is less than , no rounding occurs as the result will still be a failing grade.\n",
    "\n",
    "**Examples**\n",
    "\n",
    "- $grade=84$ round to $85$ (85 - 84 is less than 3)\n",
    "- $grade=29$ do not round (result is less than 40)\n",
    "- $grade=57$ do not round (60 - 57 is 3 or higher)\n",
    "\n",
    "Given the initial value of $grade$ for each of Sam's $n$ students, write code to automate the rounding process.\n",
    "\n",
    "**Function Description**\n",
    "\n",
    "Complete the function *gradingStudents* in the editor below.\n",
    "\n",
    "gradingStudents has the following parameter(s):\n",
    "\n",
    "- *int grades[n]*: the grades before rounding\n",
    "\n",
    "**Returns**\n",
    "\n",
    "- *int[n]*: the grades after rounding as appropriate\n",
    "\n",
    "**Input Format**\n",
    "\n",
    "The first line contains a single integer, $n$, the number of students.  \n",
    "Each line $i$ of the $n$ subsequent lines contains a single integer, $grades[i] $.\n",
    "\n",
    "**Sample Input 0**\n",
    "\n",
    "<code>4\n",
    "73\n",
    "67\n",
    "38\n",
    "33</code>\n",
    "\n",
    "**Sample Output 0**\n",
    "\n",
    "<code>75\n",
    "67\n",
    "40\n",
    "33</code>\n",
    "\n",
    "**Explanation 0**\n",
    "\n",
    "![image](https://s3.amazonaws.com/hr-challenge-images/0/1484768684-54439977a1-curving2.png)\n",
    "\n",
    "1. Student $1$ received a $73$, and the next multiple of $5$ from $73$ is $75$. Since $75 - 73 < 3$, the student's grade is rounded to $75 $.\n",
    "2. Student $2$ received a $67$, and the next multiple of $5$ from $67$ is $70 $. Since $70 - 67 = 3$, the grade will not be modified and the student's final grade is $67$.\n",
    "3. Student $3$ received a $38$, and the next multiple of $5$ from $38$ is $40$ . Since  $40 - 38 < 3$, the student's grade will be rounded to $40$.\n",
    "4. Student $4$ received a grade below $33$, so the grade will not be modified and the student's final grade is $33$ .\n",
    "\n",
    "\n"
   ]
  },
  {
   "cell_type": "code",
   "execution_count": 8,
   "metadata": {},
   "outputs": [],
   "source": [
    "def gradingStudents(grades):\n",
    "    for i in range(len(grades)) :\n",
    "        a = grades[i]%5\n",
    "        if ((5-a)<3)and (grades[i]>37):\n",
    "            grades[i]=grades[i]+(5-a)\n",
    "        else:\n",
    "            grades[i] = grades[i]\n",
    "    return grades       "
   ]
  },
  {
   "cell_type": "code",
   "execution_count": 9,
   "metadata": {},
   "outputs": [
    {
     "name": "stdout",
     "output_type": "stream",
     "text": [
      "[75, 67, 40, 33]\n"
     ]
    }
   ],
   "source": [
    "a=[73,67,38,33]\n",
    "print(gradingStudents(a))    "
   ]
  }
 ],
 "metadata": {
  "kernelspec": {
   "display_name": "Python 3",
   "language": "python",
   "name": "python3"
  },
  "language_info": {
   "codemirror_mode": {
    "name": "ipython",
    "version": 3
   },
   "file_extension": ".py",
   "mimetype": "text/x-python",
   "name": "python",
   "nbconvert_exporter": "python",
   "pygments_lexer": "ipython3",
   "version": "3.7.6"
  }
 },
 "nbformat": 4,
 "nbformat_minor": 4
}
