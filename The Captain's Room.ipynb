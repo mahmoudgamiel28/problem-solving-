{
 "cells": [
  {
   "cell_type": "markdown",
   "metadata": {},
   "source": [
    "Mr. Anant Asankhya is the manager at the *INFINITE* hotel. The hotel has an infinite amount of rooms.\n",
    "\n",
    "One fine day, a *finite* number of tourists come to stay at the hotel.  \n",
    "The tourists consist of:  \n",
    "→ A Captain.  \n",
    "→ An unknown group of families consisting of $K$ members per group where $K$ ≠ $1$ .\n",
    "\n",
    "The Captain was given a separate room, and the rest were given one room per group.\n",
    "\n",
    "Mr. Anant has an unordered list of randomly arranged room entries. The list consists of the room numbers for all of the tourists. The room numbers will appear $K$ times per group except for the Captain's room.\n",
    "\n",
    "Mr. Anant needs you to help him find the Captain's room number.  \n",
    "*The total number of tourists or the total number of groups of families is not known to you.*  \n",
    "*You only know the value of  $K$ and the room number list.*\n",
    "\n",
    "**Input Format**\n",
    "\n",
    "The first line consists of an integer,$K$ , the size of each group.  \n",
    "The second line contains the unordered elements of the room number list.  \n",
    "\n",
    "**Output Format**\n",
    "\n",
    "Output the Captain's room number.\n",
    "\n",
    "**Sample Input**\n",
    "\n",
    "```\n",
    "5\n",
    "1 2 3 6 5 4 4 2 5 3 6 1 6 5 3 2 4 1 2 5 1 4 3 6 8 4 3 1 5 6 2 \n",
    "```\n",
    "\n",
    "**Sample Output**\n",
    "\n",
    "```\n",
    "8\n",
    "```\n",
    "\n",
    "**Explanation**\n",
    "\n",
    "The list of room numbers contains $31$ elements. Since $K$ is $5$, there must be $6$ groups of families. In the given list, all of the numbers repeat $5$ times except for room number $8$.  \n",
    "Hence, $8$ is the Captain's room number.\n",
    "\n",
    "\n"
   ]
  },
  {
   "cell_type": "markdown",
   "metadata": {},
   "source": [
    "# First method"
   ]
  },
  {
   "cell_type": "code",
   "execution_count": 56,
   "metadata": {},
   "outputs": [
    {
     "name": "stdout",
     "output_type": "stream",
     "text": [
      "5\n",
      "1 2 3 6 5 4 4 2 5 3 6 1 6 5 3 2 4 1 2 5 1 4 3 6 8 4 3 1 5 6 2 \n",
      "8\n"
     ]
    }
   ],
   "source": [
    "k  = int(input())\n",
    "arr = list(map(int, input().split()))\n",
    "arr_set = set(arr)\n",
    "print(((sum(arr_set)*k)-(sum(arr)))//(k-1))"
   ]
  },
  {
   "cell_type": "markdown",
   "metadata": {},
   "source": [
    "# Second method"
   ]
  },
  {
   "cell_type": "code",
   "execution_count": 57,
   "metadata": {},
   "outputs": [
    {
     "name": "stdout",
     "output_type": "stream",
     "text": [
      "5\n",
      "1 2 3 6 5 4 4 2 5 3 6 1 6 5 3 2 4 1 2 5 1 4 3 6 8 4 3 1 5 6 2 \n",
      "8\n",
      "5.123204469680786\n"
     ]
    }
   ],
   "source": [
    "import time\n",
    "start = time.time()\n",
    "from collections import Counter\n",
    "k  = int(input())\n",
    "arr = list(map(int, input().split()))\n",
    "con_dic = Counter(arr)\n",
    "keys = [k for k,v in con_dic.items() if v == 1]\n",
    "print(keys[0])\n",
    "end = time.time()\n",
    "print(end-start)"
   ]
  },
  {
   "cell_type": "markdown",
   "metadata": {},
   "source": [
    "# Third method"
   ]
  },
  {
   "cell_type": "code",
   "execution_count": 58,
   "metadata": {},
   "outputs": [
    {
     "name": "stdout",
     "output_type": "stream",
     "text": [
      "5\n",
      "1 2 3 6 5 4 4 2 5 3 6 1 6 5 3 2 4 1 2 5 1 4 3 6 8 4 3 1 5 6 2 \n",
      "8\n"
     ]
    }
   ],
   "source": [
    "k  = int(input())\n",
    "list1 = list(map(int, input().split()))\n",
    "dict1 = {}\n",
    "dict1=dict1.fromkeys(list1,0)\n",
    "for i in list1 :\n",
    "    dict1[i] +=1\n",
    "for k, v in dict1.items():\n",
    "    if v == 1:\n",
    "        print(k)    "
   ]
  }
 ],
 "metadata": {
  "kernelspec": {
   "display_name": "Python 3",
   "language": "python",
   "name": "python3"
  },
  "language_info": {
   "codemirror_mode": {
    "name": "ipython",
    "version": 3
   },
   "file_extension": ".py",
   "mimetype": "text/x-python",
   "name": "python",
   "nbconvert_exporter": "python",
   "pygments_lexer": "ipython3",
   "version": "3.7.6"
  }
 },
 "nbformat": 4,
 "nbformat_minor": 4
}
