{
 "cells": [
  {
   "cell_type": "markdown",
   "metadata": {},
   "source": [
    "In this challenge, the user enters a string and a substring. You have to print the number of times that the substring occurs in the given string. String traversal will take place from left to right, not from right to left.\n",
    "\n",
    "**NOTE:** String letters are case-sensitive.\n",
    "\n",
    "**Input Format**\n",
    "\n",
    "The first line of input contains the original string. The next line contains the substring.\n",
    "\n",
    "**Output Format**\n",
    "\n",
    "Output the integer number indicating the total number of occurrences of the substring in the original string.\n",
    "\n",
    "**Sample Input**\n",
    "\n",
    "\n",
    "<code>ABCDCDC\n",
    "CDC</code>\n",
    "\n",
    "\n",
    "**Sample Output**\n",
    "\n",
    "<code>2</code>\n",
    "\n",
    "\n",
    "**Concept**\n",
    "\n",
    "Some string processing examples, [such as these](http://www.thelearningpoint.net/computer-science/learning-python-programming-and-data-structures/learning-python-programming-and-data-structures--tutorial-12--string-manipulation), might be useful.  \n",
    "There are a couple of new concepts:  \n",
    "In Python, the length of a string is found by the function `len(s)`, where $s$ is the string.  \n",
    "To traverse through the length of a string, use a *for* loop:\n",
    "\n",
    "```\n",
    "for i in range(0, len(s)):\n",
    "    print (s[i])\n",
    "```\n",
    "\n",
    "A range function is used to loop over some length:\n",
    "\n",
    "```\n",
    "range (0, 5)\n",
    "```\n",
    "\n",
    "Here, the range loops over $0$ to $4$. $5$ is excluded.\n",
    "\n",
    "\n"
   ]
  },
  {
   "cell_type": "code",
   "execution_count": 1,
   "metadata": {},
   "outputs": [],
   "source": [
    "string = 'ABCDCDC'\n",
    "sub_string = 'CDC'"
   ]
  },
  {
   "cell_type": "code",
   "execution_count": 2,
   "metadata": {},
   "outputs": [],
   "source": [
    "def count_substring(string, sub_string):\n",
    "    count = 0\n",
    "    for i in range(len(string)):\n",
    "        if string[i:].startswith(sub_string):\n",
    "            count += 1\n",
    "    return count"
   ]
  },
  {
   "cell_type": "code",
   "execution_count": 3,
   "metadata": {},
   "outputs": [
    {
     "name": "stdout",
     "output_type": "stream",
     "text": [
      "2\n"
     ]
    }
   ],
   "source": [
    "print(count_substring(string, sub_string))"
   ]
  }
 ],
 "metadata": {
  "kernelspec": {
   "display_name": "Python 3",
   "language": "python",
   "name": "python3"
  },
  "language_info": {
   "codemirror_mode": {
    "name": "ipython",
    "version": 3
   },
   "file_extension": ".py",
   "mimetype": "text/x-python",
   "name": "python",
   "nbconvert_exporter": "python",
   "pygments_lexer": "ipython3",
   "version": "3.7.6"
  }
 },
 "nbformat": 4,
 "nbformat_minor": 4
}
