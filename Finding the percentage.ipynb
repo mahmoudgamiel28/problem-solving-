{
 "cells": [
  {
   "cell_type": "markdown",
   "metadata": {},
   "source": [
    "The provided code stub will read in a dictionary containing key/value pairs of name:[marks] for a list of students. Print the average of the marks array for the student name provided, showing 2 places after the decimal.\n",
    "\n",
    "**Example**  \n",
    "\n",
    "**marks key : value pairs are **  \n",
    "\n",
    "**alpha: [20, 30, 40]**\n",
    "\n",
    "**'beta': [30, 50, 70]**\n",
    "\n",
    "**query_name = 'beta'**\n",
    "\n",
    "The **query_name** is 'beta'. beta's average score is $(30 + 50 + 70)/3 = 50.0$ .\n",
    "\n",
    "**Input Format**\n",
    "\n",
    "The first line contains the integer $n$, the number of students' records. The next $n$ lines contain the names and marks obtained by a student, each value separated by a space. The final line contains **query_name**, the name of a student to query.\n",
    "\n",
    "**Output Format**\n",
    "\n",
    "Print one line: The average of the marks obtained by the particular student correct to 2 decimal places.\n",
    "\n",
    "**Sample Input 0**\n",
    "\n",
    "3\n",
    "Krishna 67 68 69\n",
    "Arjun 70 98 63\n",
    "Malika 52 56 60\n",
    "Malika\n",
    "\n",
    "**Sample Output 0**\n",
    "\n",
    "56.00\n",
    "\n",
    "**Sample Input 1**\n",
    "\n",
    "2<br>\n",
    "Harsh 25 26.5 28<br>\n",
    "Anurag 26 28 30<br>\n",
    "Harsh\n",
    "\n",
    "**Sample Output 1**\n",
    "\n",
    "26.50\n"
   ]
  },
  {
   "cell_type": "code",
   "execution_count": null,
   "metadata": {},
   "outputs": [],
   "source": [
    "n = int(input())\n",
    "student_marks = {}\n",
    "for _ in range(n):\n",
    "    name, *line = input().split()\n",
    "    scores = list(map(float, line))\n",
    "    student_marks[name] = scores\n",
    "query_name = input()\n",
    "print(\"{:.2f}\".format(sum(student_marks['{}'.format(query_name)])/len(student_marks['{}'.format(query_name)])))"
   ]
  }
 ],
 "metadata": {
  "kernelspec": {
   "display_name": "Python 3",
   "language": "python",
   "name": "python3"
  },
  "language_info": {
   "codemirror_mode": {
    "name": "ipython",
    "version": 3
   },
   "file_extension": ".py",
   "mimetype": "text/x-python",
   "name": "python",
   "nbconvert_exporter": "python",
   "pygments_lexer": "ipython3",
   "version": "3.7.6"
  }
 },
 "nbformat": 4,
 "nbformat_minor": 4
}
