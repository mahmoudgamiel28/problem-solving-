{
 "cells": [
  {
   "cell_type": "markdown",
   "metadata": {},
   "source": [
    "Given an array of bird sightings where every element represents a bird type id, determine the id of the most frequently sighted type. If more than 1 type has been spotted that maximum amount, return the smallest of their ids.\n",
    "\n",
    "**Example**  \n",
    "\n",
    "$arr = [1,1,2,2,3]$\n",
    "\n",
    "There are two each of types $1$ and $2$, and one sighting of type $3$. Pick the lower of the two types seen twice: type $1$.\n",
    "\n",
    "**Function Description**\n",
    "\n",
    "Complete the *migratoryBirds* function in the editor below.\n",
    "\n",
    "migratoryBirds has the following parameter(s):\n",
    "\n",
    "- *int arr[n]*: the types of birds sighted\n",
    "\n",
    "**Returns**\n",
    "\n",
    "- *int:* the lowest type id of the most frequently sighted birds\n",
    "\n",
    "**Input Format**\n",
    "\n",
    "The first line contains an integer,$n$ , the size of $arr$.  \n",
    "The second line describes $arr$ as $n$ space-separated integers, each a type number of the bird sighted.\n",
    "\n",
    "**Sample Input 0**\n",
    "\n",
    "\n",
    "<code>1 4 4 4 5 3</code> \n",
    "\n",
    "**Sample Output 0**\n",
    "\n",
    "<code>4</code>\n",
    "\n",
    "**Explanation 0**\n",
    "\n",
    "The different types of birds occur in the following frequencies:\n",
    "\n",
    "- Type$1:1$  bird\n",
    "- Type$2:0$  birds\n",
    "- Type$3:1$  bird\n",
    "- Type$4:3$  birds\n",
    "- Type$5:1$  bird\n",
    "\n",
    "The type number that occurs at the highest frequency is type $4$, so we print $4 $as our answer.\n",
    "\n",
    "**Sample Input 1**\n",
    "\n",
    "<code>1 2 3 4 5 4 3 2 1 3 4</code>\n",
    "\n",
    "**Sample Output 1**\n",
    "\n",
    "<code>3</code>\n",
    "\n",
    "**Explanation 1**\n",
    "\n",
    "The different types of birds occur in the following frequencies:\n",
    "\n",
    "- Type$1$ : $2$\n",
    "- Type$2$ : $2$\n",
    "- Type$3$ : $3$\n",
    "- Type$4$ : $3$\n",
    "- Type$5$ : $1$\n",
    "\n",
    "Two types have a frequency of 3, and the lower of those is type 3.\n"
   ]
  },
  {
   "cell_type": "code",
   "execution_count": 30,
   "metadata": {},
   "outputs": [],
   "source": [
    "def migratoryBirds(arr):\n",
    "    bird_freq = [0, 2, 2, 1, 0, 0]\n",
    "    for i in range(len(arr)):\n",
    "        bird_freq[arr[i]] += 1\n",
    "    return bird_freq.index(max(bird_freq))"
   ]
  },
  {
   "cell_type": "code",
   "execution_count": 31,
   "metadata": {},
   "outputs": [
    {
     "data": {
      "text/plain": [
       "1"
      ]
     },
     "execution_count": 31,
     "metadata": {},
     "output_type": "execute_result"
    }
   ],
   "source": [
    "migratoryBirds([1,1,2,2,3])"
   ]
  }
 ],
 "metadata": {
  "kernelspec": {
   "display_name": "Python 3",
   "language": "python",
   "name": "python3"
  },
  "language_info": {
   "codemirror_mode": {
    "name": "ipython",
    "version": 3
   },
   "file_extension": ".py",
   "mimetype": "text/x-python",
   "name": "python",
   "nbconvert_exporter": "python",
   "pygments_lexer": "ipython3",
   "version": "3.7.6"
  }
 },
 "nbformat": 4,
 "nbformat_minor": 4
}
