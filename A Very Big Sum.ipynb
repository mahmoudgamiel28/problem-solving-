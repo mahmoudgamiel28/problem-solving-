{
 "cells": [
  {
   "cell_type": "markdown",
   "metadata": {},
   "source": [
    "In this challenge, you are required to calculate and print the sum of the elements in an array,<br>\n",
    "keeping in mind that some of those integers may be quite large.<br><br>\n",
    "**Function Description**<br>\n",
    "Complete the aVeryBigSum function in the editor below. It must return the sum of all array elements.\n",
    "aVeryBigSum has the following parameter(s):<br>\n",
    "<ul>\n",
    " <li>int ar[n]: an array of integers .</li>\n",
    " </ul>\n",
    " \n",
    "__return__<br>\n",
    "<ul>\n",
    " <li>long: the sum of all array elements</li>\n",
    " </ul>\n",
    " \n",
    "**Input Format**<br>\n",
    "The first line of the input consists of an integer <i>**n** </i> .<br>\n",
    "The next line contains  space-separated integers contained in the array.<br>\n",
    "\n",
    "**Output Format**<br>\n",
    "Return the integer sum of the elements in the array.<br>\n",
    "**Constraints**<br>\n",
    " <i>**1&le; n &le;10** </i><br>\n",
    " <i>**1&le; ar[i] &le;$10^{10}$**<br><br>\n",
    "**Inputs**<br>    \n",
    "<code>5\n",
    "1000000001 1000000002 1000000003 1000000004 1000000005\n",
    "</code>\n",
    "    \n",
    "**Outputs**<br>    \n",
    "<code>5000000015\n",
    "</code>    \n",
    "\n",
    "\n",
    "\n",
    "\n"
   ]
  },
  {
   "cell_type": "markdown",
   "metadata": {},
   "source": [
    "---\n",
    "___\n",
    "***"
   ]
  },
  {
   "cell_type": "code",
   "execution_count": 3,
   "metadata": {},
   "outputs": [],
   "source": [
    "def aVeryBigSum(ar):\n",
    "    # Write your code here\n",
    "    sum=0\n",
    "    for i in range(len(ar)):\n",
    "        sum+=ar[i]\n",
    "    return sum"
   ]
  }
 ],
 "metadata": {
  "kernelspec": {
   "display_name": "Python 3",
   "language": "python",
   "name": "python3"
  },
  "language_info": {
   "codemirror_mode": {
    "name": "ipython",
    "version": 3
   },
   "file_extension": ".py",
   "mimetype": "text/x-python",
   "name": "python",
   "nbconvert_exporter": "python",
   "pygments_lexer": "ipython3",
   "version": "3.7.6"
  }
 },
 "nbformat": 4,
 "nbformat_minor": 4
}
