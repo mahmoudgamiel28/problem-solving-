{
 "cells": [
  {
   "cell_type": "markdown",
   "metadata": {},
   "source": [
    "**Task**  \n",
    "Given an integer, $n$, and $n$ space-separated integers as input, create a tuple, $t$, of those  integers. Then compute and print the result of $hash(t)$.\n",
    "\n",
    "**Note:** [hash()](https://docs.python.org/3/library/functions.html#hash) is one of the functions in the `__builtins__` module, so it need not be imported.\n",
    "\n",
    "**Input Format**\n",
    "\n",
    "The first line contains an integer, $n$, denoting the number of elements in the tuple.  \n",
    "The second line contains $n$ space-separated integers describing the elements in tuple $t$.\n",
    "\n",
    "**Output Format**\n",
    "\n",
    "Print the result of $hash(t)$.\n",
    "\n",
    "**Sample Input 0**\n",
    "\n",
    "<code>2\n",
    "1 2</code>\n",
    "\n",
    "**Sample Output 0**\n",
    "\n",
    "<code>3713081631934410656</code>"
   ]
  },
  {
   "cell_type": "code",
   "execution_count": null,
   "metadata": {},
   "outputs": [],
   "source": [
    "if __name__ == '__main__':\n",
    "    n = int(raw_input())\n",
    "    integer_list = map(int, raw_input().split())\n",
    "    t = tuple(integer_list)\n",
    "    print(hash(t))"
   ]
  }
 ],
 "metadata": {
  "kernelspec": {
   "display_name": "Python 3",
   "language": "python",
   "name": "python3"
  },
  "language_info": {
   "codemirror_mode": {
    "name": "ipython",
    "version": 3
   },
   "file_extension": ".py",
   "mimetype": "text/x-python",
   "name": "python",
   "nbconvert_exporter": "python",
   "pygments_lexer": "ipython3",
   "version": "3.7.6"
  }
 },
 "nbformat": 4,
 "nbformat_minor": 4
}
