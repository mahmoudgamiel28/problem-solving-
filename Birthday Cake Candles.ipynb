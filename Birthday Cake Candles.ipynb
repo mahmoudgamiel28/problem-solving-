{
 "cells": [
  {
   "cell_type": "markdown",
   "metadata": {},
   "source": [
    "You are in charge of the cake for a child's birthday. You have decided the cake will have one candle for each year of their total age. They will only be able to blow out the tallest of the candles. Count how many candles are tallest.\n",
    "\n",
    "**Example**\n",
    "\n",
    "$candles = [4,4,1,2]$ \n",
    "\n",
    "The maximum height candles are $4$ units high. There are $2$ of them, so return $2$ .\n",
    "\n",
    "**Function Description**\n",
    "\n",
    "Complete the function `birthdayCakeCandles` in the editor below.\n",
    "\n",
    "birthdayCakeCandles has the following parameter(s):\n",
    "\n",
    "- *int candles[n]*: the candle heights\n",
    "\n",
    "**Returns**\n",
    "\n",
    "- *int*: the number of candles that are tallest\n",
    "\n",
    "\n",
    "\n",
    "**Input Format**\n",
    "\n",
    "The first line contains a single integer, $n$  the size of ***candles***\n",
    "\n",
    "The second line contains $n$ space-separated integers, where each integer $i$ describes the height of $candles[i]$ \n",
    "\n",
    "**Sample Input 0**\n",
    "\n",
    "\n",
    "<code>3 2 1 3</code>\n",
    "\n",
    "**Sample Output 0**\n",
    "\n",
    "<code>2</code>\n",
    "\n",
    "**Explanation 0**\n",
    "\n",
    "Candle heights are $[3,2,1,3]$ . The tallest candles are $3$ units, and there are $2$ of them.\n"
   ]
  },
  {
   "cell_type": "code",
   "execution_count": 9,
   "metadata": {},
   "outputs": [],
   "source": [
    "def birthdayCakeCandles(candles):\n",
    "    c = candles.count(max(candles))\n",
    "    return c       "
   ]
  },
  {
   "cell_type": "code",
   "execution_count": 10,
   "metadata": {},
   "outputs": [
    {
     "name": "stdout",
     "output_type": "stream",
     "text": [
      "3\n"
     ]
    }
   ],
   "source": [
    "candles=[4,4,1,4]\n",
    "print(birthdayCakeCandles(candles))"
   ]
  }
 ],
 "metadata": {
  "kernelspec": {
   "display_name": "Python 3",
   "language": "python",
   "name": "python3"
  },
  "language_info": {
   "codemirror_mode": {
    "name": "ipython",
    "version": 3
   },
   "file_extension": ".py",
   "mimetype": "text/x-python",
   "name": "python",
   "nbconvert_exporter": "python",
   "pygments_lexer": "ipython3",
   "version": "3.7.6"
  }
 },
 "nbformat": 4,
 "nbformat_minor": 4
}
