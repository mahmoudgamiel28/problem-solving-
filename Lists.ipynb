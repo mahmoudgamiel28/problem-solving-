{
 "cells": [
  {
   "cell_type": "markdown",
   "metadata": {},
   "source": [
    "Consider a list (`list = []`). You can perform the following commands:\n",
    "\n",
    "1. `insert i e`: Insert integer $e$ at position $i$.\n",
    "2. `print`: Print the list.\n",
    "3. `remove e`: Delete the first occurrence of integer $e$.\n",
    "4. `append e`: Insert integer $e$ at the end of the list.\n",
    "5. `sort`: Sort the list.\n",
    "6. `pop`: Pop the last element from the list.\n",
    "7. `reverse`: Reverse the list.\n",
    "\n",
    "Initialize your list and read in the value of $n$ followed by $n$ lines of commands where each command will be of the $7$ types listed above. Iterate through each command in order and perform the corresponding operation on your list.\n",
    "\n",
    "**Example**  \n",
    "\n",
    "$N = 4$ \n",
    "\n",
    "**append 1**\n",
    "\n",
    "**append 2**\n",
    "\n",
    "**insert 3 1** \n",
    "\n",
    "**print**   \n",
    "\n",
    "- **append 1** : Append $1$ to the list, $arr = [1]$.\n",
    "\n",
    "- **append 2** : Append $2$ to the list, $arr = [1,2]$.\n",
    "\n",
    "- **insert 3 1** : Insert $3$ at index $1$, $arr = [1,3,2]$ .\n",
    "\n",
    "- **print** : Print the array.  \n",
    "  \n",
    "  Output:\n",
    "\n",
    "[1, 3, 2]\n",
    "\n",
    "**Input Format**\n",
    "\n",
    "The first line contains an integer, $n$, denoting the number of commands.  \n",
    "Each line  of the $n$ subsequent lines contains one of the commands described above.\n",
    "\n",
    "**Constraints**\n",
    "\n",
    "- The elements added to the list must be *integers*.\n",
    "\n",
    "**Output Format**\n",
    "\n",
    "For each command of type `print`, print the list on a new line.\n",
    "\n",
    "**Sample Input 0**\n",
    "\n",
    "<code>12<br>\n",
    "insert 0 5 <br>\n",
    "insert 1 10<br>\n",
    "insert 0 6<br>\n",
    "print<br>\n",
    "remove 6<br>\n",
    "append 9<br>\n",
    "append 1<br>\n",
    "sort<br>\n",
    "print<br>\n",
    "pop<br>\n",
    "reverse<br>\n",
    "print<br></code>\n",
    "\n",
    "**Sample Output 0**\n",
    "\n",
    "<code>[6, 5, 10]\n",
    "[1, 5, 9, 10]\n",
    "[9, 5, 1]</code>\n"
   ]
  },
  {
   "cell_type": "markdown",
   "metadata": {},
   "source": [
    "# using eval functoin "
   ]
  },
  {
   "cell_type": "code",
   "execution_count": null,
   "metadata": {},
   "outputs": [],
   "source": [
    "if __name__ == '__main__':\n",
    "    N = int(input())\n",
    "    l = []\n",
    "    for i in range(N):\n",
    "        order = input().split()\n",
    "        cmd = order[0]\n",
    "        args = order[1:]\n",
    "        if cmd !=\"print\":\n",
    "            cmd += \"(\"+ \",\".join(args) +\")\"\n",
    "            eval(\"l.\"+cmd)\n",
    "        else:\n",
    "            print(l)"
   ]
  }
 ],
 "metadata": {
  "kernelspec": {
   "display_name": "Python 3",
   "language": "python",
   "name": "python3"
  },
  "language_info": {
   "codemirror_mode": {
    "name": "ipython",
    "version": 3
   },
   "file_extension": ".py",
   "mimetype": "text/x-python",
   "name": "python",
   "nbconvert_exporter": "python",
   "pygments_lexer": "ipython3",
   "version": "3.7.6"
  }
 },
 "nbformat": 4,
 "nbformat_minor": 4
}
