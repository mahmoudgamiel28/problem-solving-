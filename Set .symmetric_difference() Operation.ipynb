{
 "cells": [
  {
   "cell_type": "markdown",
   "metadata": {},
   "source": [
    "![](https://s3.amazonaws.com/hr-challenge-images/9421/1437912471-534f33cf60-AB.png \"A^B.png\")**.symmetric_difference()**  \n",
    "\n",
    "The *.symmetric_difference()* operator returns a set with all the elements that are in the set and the iterable but not both.  \n",
    "Sometimes, a `^` operator is used in place of the *.symmetric_difference()* tool, but it only operates on the set of elements in *set*.  \n",
    "The set is immutable to the *.symmetric_difference()* operation (or `^` operation).\n",
    "\n",
    "```\n",
    ">>> s = set(\"Hacker\")\n",
    ">>> print s.symmetric_difference(\"Rank\")\n",
    "set(['c', 'e', 'H', 'n', 'R', 'r'])\n",
    "\n",
    ">>> print s.symmetric_difference(set(['R', 'a', 'n', 'k']))\n",
    "set(['c', 'e', 'H', 'n', 'R', 'r'])\n",
    "\n",
    ">>> print s.symmetric_difference(['R', 'a', 'n', 'k'])\n",
    "set(['c', 'e', 'H', 'n', 'R', 'r'])\n",
    "\n",
    ">>> print s.symmetric_difference(enumerate(['R', 'a', 'n', 'k']))\n",
    "set(['a', 'c', 'e', 'H', (0, 'R'), 'r', (2, 'n'), 'k', (1, 'a'), (3, 'k')])\n",
    "\n",
    ">>> print s.symmetric_difference({\"Rank\":1})\n",
    "set(['a', 'c', 'e', 'H', 'k', 'Rank', 'r'])\n",
    "\n",
    ">>> s ^ set(\"Rank\")\n",
    "set(['c', 'e', 'H', 'n', 'R', 'r'])\n",
    "```\n",
    "\n",
    "---\n",
    "\n",
    "**Task**  \n",
    "\n",
    "Students of District College have subscriptions to *English* and *French* newspapers. Some students have subscribed to *English* only, some have subscribed to *French* only, and some have subscribed to both newspapers.\n",
    "\n",
    "You are given two sets of student roll numbers. One set has subscribed to the *English* newspaper, and one set has subscribed to the *French* newspaper. Your task is to find the total number of students who have subscribed to either the *English* or the *French* newspaper but *not both*.\n",
    "\n",
    "**Input Format**\n",
    "\n",
    "The first line contains the number of students who have subscribed to the *English* newspaper.  \n",
    "The second line contains the space separated list of student roll numbers who have subscribed to the *English* newspaper.  \n",
    "The third line contains the number of students who have subscribed to the *French* newspaper.  \n",
    "The fourth line contains the space separated list of student roll numbers who have subscribed to the *French* newspaper.\n",
    "\n",
    "**Constraints**\n",
    "\n",
    "$0 < Total number of students in college < 1000$ \n",
    "\n",
    "**Output Format**\n",
    "\n",
    "Output total number of students who have subscriptions to the *English* or the *French* newspaper but *not both*.\n",
    "\n",
    "**Sample Input**\n",
    "\n",
    "```\n",
    "9\n",
    "1 2 3 4 5 6 7 8 9\n",
    "9\n",
    "10 1 2 3 11 21 55 6 8\n",
    "```\n",
    "\n",
    "**Sample Output**\n",
    "\n",
    "```\n",
    "8\n",
    "```\n",
    "\n",
    "**Explanation**\n",
    "\n",
    "The roll numbers of students who have subscriptions to *English* or *French* newspapers but *not both* are:  \n",
    "$4, 5, 7, 10, 11, 21 $ and $55$.  \n",
    "Hence, the total is $8$ students.\n",
    "\n",
    "\n"
   ]
  },
  {
   "cell_type": "markdown",
   "metadata": {},
   "source": [
    "# First Method"
   ]
  },
  {
   "cell_type": "code",
   "execution_count": null,
   "metadata": {},
   "outputs": [],
   "source": [
    "k1  = int(input())\n",
    "arr1 = list(map(int, input().split()))\n",
    "set1 = set(arr1)\n",
    "k2  = int(input())\n",
    "arr2 = list(map(int, input().split()))\n",
    "set2 = set(arr2)\n",
    "print(len(set1.symmetric_difference(set2)))"
   ]
  },
  {
   "cell_type": "markdown",
   "metadata": {},
   "source": [
    "# Second method"
   ]
  },
  {
   "cell_type": "code",
   "execution_count": null,
   "metadata": {},
   "outputs": [],
   "source": [
    "k1  = int(input())\n",
    "arr1 = list(map(int, input().split()))\n",
    "set1 = set(arr1)\n",
    "k2  = int(input())\n",
    "arr2 = list(map(int, input().split()))\n",
    "set2 = set(arr2)\n",
    "print(len(set1.difference(set2))+ len(set2.difference(set1)))"
   ]
  }
 ],
 "metadata": {
  "kernelspec": {
   "display_name": "Python 3",
   "language": "python",
   "name": "python3"
  },
  "language_info": {
   "codemirror_mode": {
    "name": "ipython",
    "version": 3
   },
   "file_extension": ".py",
   "mimetype": "text/x-python",
   "name": "python",
   "nbconvert_exporter": "python",
   "pygments_lexer": "ipython3",
   "version": "3.7.6"
  }
 },
 "nbformat": 4,
 "nbformat_minor": 4
}
