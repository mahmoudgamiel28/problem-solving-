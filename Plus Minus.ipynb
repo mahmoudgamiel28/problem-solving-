{
 "cells": [
  {
   "cell_type": "markdown",
   "metadata": {},
   "source": [
    "Given an array of integers, calculate the ratios of its elements that are *positive*, *negative*, and *zero*. Print the decimal value of each fraction on a new line with  places after the decimal.\n",
    "\n",
    "**Note:** This challenge introduces precision problems. The test cases are scaled to six decimal places, though answers with absolute error of up to **10**<sup>**-4**</sup> are acceptable.\n",
    "\n",
    "**Example**\n",
    "\n",
    "***arr*** = **[1,1,0,-1,-1]**\n",
    "\n",
    "There are ***n*** = **5** elements, two positive, two negative and one zero. Their ratios are$2/5 =0.400000$ , $2/5 =0.400000$  and $1/5 =0.200000$ . Results are printed as:\n",
    "\n",
    "```\n",
    "0.400000\n",
    "0.400000\n",
    "0.200000\n",
    "```\n",
    "\n",
    "**Function Description**\n",
    "\n",
    "Complete the *plusMinus* function in the editor below.\n",
    "\n",
    "plusMinus has the following parameter(s):\n",
    "\n",
    "- *int arr[n]*: an array of integers\n",
    "\n",
    "**Print**  \n",
    "Print the ratios of positive, negative and zero values in the array. Each value should be printed on a separate line with  digits after the decimal. The function should not return a value.\n",
    "\n",
    "**Input Format**\n",
    "\n",
    "The first line contains an integer, ***n***, the size of the array.  \n",
    "The second line contains ***n***  space-separated integers that describe ***arr[n]*** .\n",
    "\n",
    "**Output Format**\n",
    "\n",
    "**Print** the following **3** lines, each to **6** decimals:\n",
    "\n",
    "1. proportion of positive values\n",
    "2. proportion of negative values\n",
    "3. proportion of zeros\n",
    "\n",
    "**Sample Input**\n",
    "\n",
    "```\n",
    "STDIN           Function\n",
    "-----           --------\n",
    "6               arr[] size n = 6\n",
    "-4 3 -9 0 4 1   arr = [-4, 3, -9, 0, 4, 1]\n",
    "```\n",
    "\n",
    "**Sample Output**\n",
    "\n",
    "```\n",
    "0.500000\n",
    "0.333333\n",
    "0.166667\n",
    "```\n",
    "\n",
    "**Explanation**\n",
    "\n",
    "There are **3**  positive numbers, **2** negative numbers, and **1** zero in the array.  \n",
    "The proportions of occurrence are positive:$3/6 =0.500000$ , negative: $2/6 =0.333333$ and zeros: $1/6 =0.166667$ .\n",
    "\n",
    "\n"
   ]
  },
  {
   "cell_type": "markdown",
   "metadata": {},
   "source": [
    "---\n",
    "---\n",
    "---"
   ]
  },
  {
   "cell_type": "code",
   "execution_count": 28,
   "metadata": {},
   "outputs": [],
   "source": [
    "a = [-4,3,-9,0,4,1]\n",
    "def plusMinus(arr):\n",
    "    plus_counr=0\n",
    "    mins_count=0\n",
    "    zeros_count=0\n",
    "    n=len(arr)\n",
    "    for i in arr:\n",
    "        if (i ==0):\n",
    "            zeros_count+=1\n",
    "        if (i <0):\n",
    "            mins_count+=1\n",
    "        if (i >0):\n",
    "            plus_counr+=1\n",
    "    print(\"{:.6f}\".format(plus_counr/n))\n",
    "    print(\"{:.6f}\".format(mins_count/n))   \n",
    "    print(\"{:.6f}\".format(zeros_count/n))     "
   ]
  }
 ],
 "metadata": {
  "kernelspec": {
   "display_name": "Python 3",
   "language": "python",
   "name": "python3"
  },
  "language_info": {
   "codemirror_mode": {
    "name": "ipython",
    "version": 3
   },
   "file_extension": ".py",
   "mimetype": "text/x-python",
   "name": "python",
   "nbconvert_exporter": "python",
   "pygments_lexer": "ipython3",
   "version": "3.7.6"
  }
 },
 "nbformat": 4,
 "nbformat_minor": 4
}
