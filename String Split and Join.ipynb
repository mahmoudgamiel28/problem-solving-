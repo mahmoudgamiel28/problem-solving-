{
 "cells": [
  {
   "cell_type": "markdown",
   "metadata": {},
   "source": [
    "<div class=\"msB challenge_problem_statement_body\"><div class=\"hackdown-content\"><style id=\"MathJax_SVG_styles\">.MathJax_SVG_Display {text-align: center; margin: 1em 0em; position: relative; display: block!important; text-indent: 0; max-width: none; max-height: none; min-width: 0; min-height: 0; width: 100%}\n",
    ".MathJax_SVG .MJX-monospace {font-family: monospace}\n",
    ".MathJax_SVG .MJX-sans-serif {font-family: sans-serif}\n",
    ".MathJax_SVG {display: inline; font-style: normal; font-weight: normal; line-height: normal; font-size: 100%; font-size-adjust: none; text-indent: 0; text-align: left; text-transform: none; letter-spacing: normal; word-spacing: normal; word-wrap: normal; white-space: nowrap; float: none; direction: ltr; max-width: none; max-height: none; min-width: 0; min-height: 0; border: 0; padding: 0; margin: 0}\n",
    ".MathJax_SVG * {transition: none; -webkit-transition: none; -moz-transition: none; -ms-transition: none; -o-transition: none}\n",
    ".mjx-svg-href {fill: blue; stroke: blue}\n",
    ".MathJax_SVG_LineBox {display: table!important}\n",
    ".MathJax_SVG_LineBox span {display: table-cell!important; width: 10000em!important; min-width: 0; max-width: none; padding: 0; border: 0; margin: 0}\n",
    "</style><svg style=\"display: none;\"><defs id=\"MathJax_SVG_glyphs\"></defs></svg><p>In Python, a string can be split on a delimiter.  </p>\n",
    "\n",
    "<p><strong>Example:</strong>  </p>\n",
    "\n",
    "<pre><code>&gt;&gt;&gt; a = \"this is a string\"\n",
    "&gt;&gt;&gt; a = a.split(\" \") # a is converted to a list of strings. \n",
    "&gt;&gt;&gt; print a\n",
    "['this', 'is', 'a', 'string']\n",
    "</code></pre>\n",
    "\n",
    "<p>Joining a string is simple:  </p>\n",
    "\n",
    "<pre><code>&gt;&gt;&gt; a = \"-\".join(a)\n",
    "&gt;&gt;&gt; print a\n",
    "this-is-a-string \n",
    "</code></pre>\n",
    "\n",
    "<p><strong>Task</strong> <br>\n",
    "You are given a string. Split the string on a <code>\" \"</code> (space) delimiter and join using a <code>-</code> hyphen.   </p>\n",
    "\n",
    "<p><strong>Function Description</strong>   </p>\n",
    "\n",
    "<p>Complete the <em>split_and_join</em> function in the editor below.   </p>\n",
    "\n",
    "<p><em>split_and_join</em> has the following parameters:   </p>\n",
    "\n",
    "<ul>\n",
    "<li><em>string line:</em> a string of space-separated words   </li>\n",
    "</ul>\n",
    "\n",
    "<p><strong>Returns</strong>   </p>\n",
    "\n",
    "<ul>\n",
    "<li><em>string:</em> the resulting string   </li>\n",
    "</ul>\n",
    "\n",
    "<p><strong>Input Format</strong> <br>\n",
    "The one line contains a string consisting of space separated words.  </p>\n",
    "\n",
    "<p><strong>Sample Input</strong> </p>\n",
    "\n",
    "<pre><code>this is a string   \n",
    "</code></pre>\n",
    "\n",
    "<p><strong>Sample Output</strong>  </p>\n",
    "\n",
    "<pre><code>this-is-a-string\n",
    "</code></pre></div></div>"
   ]
  },
  {
   "cell_type": "code",
   "execution_count": 1,
   "metadata": {},
   "outputs": [],
   "source": [
    "def split_and_join(line):\n",
    "    line = line.split(\" \")\n",
    "    s = \"-\"\n",
    "    line = s.join(line)\n",
    "    return(line)"
   ]
  },
  {
   "cell_type": "code",
   "execution_count": 2,
   "metadata": {},
   "outputs": [
    {
     "name": "stdout",
     "output_type": "stream",
     "text": [
      "this-is-a-string\n"
     ]
    }
   ],
   "source": [
    "line = \"this is a string\"\n",
    "print(split_and_join(line))"
   ]
  }
 ],
 "metadata": {
  "kernelspec": {
   "display_name": "Python 3",
   "language": "python",
   "name": "python3"
  },
  "language_info": {
   "codemirror_mode": {
    "name": "ipython",
    "version": 3
   },
   "file_extension": ".py",
   "mimetype": "text/x-python",
   "name": "python",
   "nbconvert_exporter": "python",
   "pygments_lexer": "ipython3",
   "version": "3.7.6"
  }
 },
 "nbformat": 4,
 "nbformat_minor": 4
}
