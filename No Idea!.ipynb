{
 "cells": [
  {
   "cell_type": "markdown",
   "metadata": {},
   "source": [
    "There is an array of $n$ integers. There are also $2$ **disjoint sets**, $A$ and $B$, each containing $m$ integers. You like all the integers in set $A$ and dislike all the integers in set $B$. Your initial happiness is $0$. For each $i$ integer in the array, if  $i$ $belong$ $to$ $A$, you add $1$ to your happiness. If $i$ $belong$ $to$ $B$, you add $-1$ to your happiness. Otherwise, your happiness does not change. Output your final happiness at the end.\n",
    "\n",
    "**Note:** Since $A$ and $B$ are sets, they have no repeated elements. However, the array might contain duplicate elements.\n",
    "\n",
    "*Input Format**\n",
    "\n",
    "The first line contains integers $n$ and $m$ separated by a space.  \n",
    "The second line contains $n$ integers, the elements of the array.  \n",
    "The third and fourth lines contain $m$ integers, $A$ and $B$, respectively.\n",
    "\n",
    "**Output Format**\n",
    "\n",
    "Output a single integer, your total happiness.\n",
    "\n",
    "**Sample Input**\n",
    "\n",
    "```\n",
    "3 2\n",
    "1 5 3\n",
    "3 1\n",
    "5 7\n",
    "```\n",
    "\n",
    "**Sample Output**\n",
    "\n",
    "```\n",
    "1\n",
    "```\n",
    "\n",
    "**Explanation**\n",
    "\n",
    "You gain $1$ unit of happiness for elements $3$ and $1$ in set $A$. You lose $1$ unit for $5$ in set $B$. The element $7$ in set $B$ does not exist in the array so it is not included in the calculation.\n",
    "\n",
    "Hence, the total happiness is  $2-1 = 1$.\n",
    "\n",
    "\n"
   ]
  },
  {
   "cell_type": "code",
   "execution_count": 1,
   "metadata": {},
   "outputs": [
    {
     "name": "stdout",
     "output_type": "stream",
     "text": [
      "3 2\n",
      "1 5 3\n",
      "3 1\n",
      "5 7\n",
      "1\n"
     ]
    }
   ],
   "source": [
    "n_m = list(map(int, input().split()))\n",
    "n_integer = list(map(int, input().split()))\n",
    "a = set(list(map(int, input().split())))\n",
    "b = set(list(map(int, input().split())))\n",
    "print(sum([(i in a) - (i in b) for i in n_integer]))"
   ]
  }
 ],
 "metadata": {
  "kernelspec": {
   "display_name": "Python 3",
   "language": "python",
   "name": "python3"
  },
  "language_info": {
   "codemirror_mode": {
    "name": "ipython",
    "version": 3
   },
   "file_extension": ".py",
   "mimetype": "text/x-python",
   "name": "python",
   "nbconvert_exporter": "python",
   "pygments_lexer": "ipython3",
   "version": "3.7.6"
  }
 },
 "nbformat": 4,
 "nbformat_minor": 4
}
