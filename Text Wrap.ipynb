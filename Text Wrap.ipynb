{
 "cells": [
  {
   "cell_type": "markdown",
   "metadata": {},
   "source": [
    "CodeMarkdownRaw NBConvertHeading-\n",
    "\n",
    "Check [Tutorial](https://www.hackerrank.com/challenges/text-wrap/tutorial) tab to know how to to solve.\n",
    "\n",
    "You are given a string $S$ and width $w$.  \n",
    "Your task is to wrap the string into a paragraph of width $w$.\n",
    "\n",
    "**Function Description**\n",
    "\n",
    "Complete the *wrap* function in the editor below.\n",
    "\n",
    "*wrap* has the following parameters:\n",
    "\n",
    "- *string string:* a long string\n",
    "- *int max_width:* the width to wrap to\n",
    "\n",
    "**Returns**\n",
    "\n",
    "- *string:* a single string with newline characters ('\\n') where the breaks should be\n",
    "\n",
    "**Input Format**\n",
    "\n",
    "The first line contains a string, $string$ .  \n",
    "The second line contains the width, $max width$ .\n",
    "\n",
    "\n",
    "\n",
    "**Sample Input 0**\n",
    "\n",
    "ABCDEFGHIJKLIMNOQRSTUVWXYZ\n",
    "4\n",
    "\n",
    "**Sample Output 0**\n",
    "\n",
    "ABCD<br>\n",
    "EFGH<br>\n",
    "IJKL<br>\n",
    "IMNO<br>\n",
    "QRST<br>\n",
    "UVWX<br>\n",
    "YZ<br>\n"
   ]
  },
  {
   "cell_type": "code",
   "execution_count": 1,
   "metadata": {},
   "outputs": [],
   "source": [
    "import textwrap\n",
    "\n",
    "def wrap(string, max_width):\n",
    "    return \"\\n\".join([string[i:i+max_width] for i in range(0, len(string), max_width)])"
   ]
  }
 ],
 "metadata": {
  "kernelspec": {
   "display_name": "Python 3",
   "language": "python",
   "name": "python3"
  },
  "language_info": {
   "codemirror_mode": {
    "name": "ipython",
    "version": 3
   },
   "file_extension": ".py",
   "mimetype": "text/x-python",
   "name": "python",
   "nbconvert_exporter": "python",
   "pygments_lexer": "ipython3",
   "version": "3.7.6"
  }
 },
 "nbformat": 4,
 "nbformat_minor": 4
}
