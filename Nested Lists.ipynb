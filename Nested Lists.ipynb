{
 "cells": [
  {
   "cell_type": "markdown",
   "metadata": {},
   "source": [
    "Given the names and grades for each student in a class of $N$ students, store them in a nested list and print the name(s) of any student(s) having the second lowest grade.\n",
    "\n",
    "**Note:** If there are multiple students with the second lowest grade, order their names alphabetically and print each name on a new line.\n",
    "\n",
    "**Example**  \n",
    "\n",
    "$records = [[\"chi\",20.0],[\"beta\",50.0],[\"alpha\",50.0]]$ \n",
    "\n",
    "The ordered list of scores is $[20.0,50.0]$, so the second lowest score is $50.0$. There are two students with that score:$[\"beta\",\"alpha\"]$. Ordered alphabetically, the names are printed as:\n",
    "\n",
    "alpha\n",
    "beta\n",
    "\n",
    "**Input Format**\n",
    "\n",
    "The first line contains an integer,$N$, the number of students.  \n",
    "The $2N$subsequent lines describe each student over $2$ lines.  \n",
    "\n",
    "- The first line contains a student's name.  \n",
    "\n",
    "- The second line contains their grade.\n",
    "\n",
    "**Output Format**\n",
    "\n",
    "Print the name(s) of any student(s) having the second lowest grade in. If there are multiple students, order their names alphabetically and print each one on a new line.\n",
    "\n",
    "**Sample Input 0**\n",
    "\n",
    "<code>5\n",
    "Harry\n",
    "37.21\n",
    "Berry\n",
    "37.21\n",
    "Tina\n",
    "37.2\n",
    "Akriti\n",
    "41\n",
    "Harsh\n",
    "39</code>\n",
    "\n",
    "**Sample Output 0**\n",
    "\n",
    "<code>Berry\n",
    "Harry</code>\n",
    "\n",
    "**Explanation 0**\n",
    "\n",
    "There are $5$ students in this class whose names and grades are assembled to build the following list:\n",
    "\n",
    "`python students = [['Harry', 37.21], ['Berry', 37.21], ['Tina', 37.2], ['Akriti', 41], ['Harsh', 39]]`\n",
    "\n",
    "The lowest grade of $37.2 $belongs to *Tina*. The second lowest grade of $37.21 $belongs to both *Harry* and *Berry*, so we order their names alphabetically and print each name on a new line.\n",
    "\n",
    "\n"
   ]
  },
  {
   "cell_type": "code",
   "execution_count": null,
   "metadata": {},
   "outputs": [],
   "source": [
    "marksheet = []\n",
    "for _ in range(0,int(input())):\n",
    "    marksheet.append([input(), float(input())])\n",
    "\n",
    "second_highest = sorted(list(set([marks for name, marks in marksheet])))[1]\n",
    "print('\\n'.join([a for a,b in sorted(marksheet) if b == second_highest]))"
   ]
  }
 ],
 "metadata": {
  "kernelspec": {
   "display_name": "Python 3",
   "language": "python",
   "name": "python3"
  },
  "language_info": {
   "codemirror_mode": {
    "name": "ipython",
    "version": 3
   },
   "file_extension": ".py",
   "mimetype": "text/x-python",
   "name": "python",
   "nbconvert_exporter": "python",
   "pygments_lexer": "ipython3",
   "version": "3.7.6"
  }
 },
 "nbformat": 4,
 "nbformat_minor": 4
}
