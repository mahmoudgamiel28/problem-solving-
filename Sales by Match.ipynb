{
 "cells": [
  {
   "cell_type": "markdown",
   "metadata": {},
   "source": [
    "There is a large pile of socks that must be paired by color. Given an array of integers representing the color of each sock, determine how many pairs of socks with matching colors there are.\n",
    "\n",
    "**Example**  \n",
    "\n",
    "$n = 7$\n",
    "\n",
    "$ar = [1,2,1,2,1,3,2]$ \n",
    "\n",
    "There is one pair of color $1$ and one of color $2$. There are three odd socks left, one of each color. The number of pairs is $2$.\n",
    "\n",
    "**Function Description**\n",
    "\n",
    "Complete the *sockMerchant* function in the editor below.\n",
    "\n",
    "sockMerchant has the following parameter(s):\n",
    "\n",
    "- *int n:* the number of socks in the pile\n",
    "- *int ar[n]:* the colors of each sock\n",
    "\n",
    "**Returns**\n",
    "\n",
    "- *int:* the number of pairs\n",
    "\n",
    "**Input Format**\n",
    "\n",
    "The first line contains an integer $n$, the number of socks represented in $ar$.  \n",
    "The second line contains $n$ space-separated integers, $ar[i]$ , the colors of the socks in the pile.\n",
    "\n",
    "\n",
    "\n",
    "**Sample Input**\n",
    "\n",
    "```\n",
    "STDIN                       Function\n",
    "-----                       --------\n",
    "9                           n = 9\n",
    "10 20 20 10 10 30 50 10 20  ar = [10, 20, 20, 10, 10, 30, 50, 10, 20]\n",
    "```\n",
    "\n",
    "**Sample Output**\n",
    "\n",
    "```\n",
    "3\n",
    "```\n",
    "\n",
    "**Explanation**\n",
    "\n",
    "![sock.png](https://s3.amazonaws.com/hr-challenge-images/25168/1474122392-c7b9097430-sock.png)\n",
    "\n",
    "There are three pairs of socks.\n"
   ]
  },
  {
   "cell_type": "code",
   "execution_count": 28,
   "metadata": {},
   "outputs": [],
   "source": [
    "def sockMerchant(n, ar):\n",
    "    num_of_pairs = 0\n",
    "    set_ar= set(ar)\n",
    "    for i in set_ar :\n",
    "        num_of_pairs+=((ar.count(i))//2)\n",
    "    return(num_of_pairs)    "
   ]
  },
  {
   "cell_type": "code",
   "execution_count": 30,
   "metadata": {},
   "outputs": [
    {
     "name": "stdout",
     "output_type": "stream",
     "text": [
      "2\n"
     ]
    }
   ],
   "source": [
    "𝑛=7 \n",
    "𝑎𝑟=[1,2,1,2,1,3,2]\n",
    "print(sockMerchant(n, ar))"
   ]
  },
  {
   "cell_type": "code",
   "execution_count": 70,
   "metadata": {},
   "outputs": [
    {
     "name": "stdout",
     "output_type": "stream",
     "text": [
      "alex2\n",
      "alex3\n"
     ]
    }
   ],
   "source": [
    "list1 = [['alex1',20],['alex2',10],['alex3',10],['alex4',7],['alex5',5]]\n",
    "marks = []\n",
    "for mini_list in list1:\n",
    "    marks.append(mini_list[1])\n",
    "marks = sorted(set(marks),reverse=True)\n",
    "for mini_list in list1:\n",
    "    if mini_list[1]==marks[1]:\n",
    "        print(mini_list[0])"
   ]
  }
 ],
 "metadata": {
  "kernelspec": {
   "display_name": "Python 3",
   "language": "python",
   "name": "python3"
  },
  "language_info": {
   "codemirror_mode": {
    "name": "ipython",
    "version": 3
   },
   "file_extension": ".py",
   "mimetype": "text/x-python",
   "name": "python",
   "nbconvert_exporter": "python",
   "pygments_lexer": "ipython3",
   "version": "3.7.6"
  }
 },
 "nbformat": 4,
 "nbformat_minor": 4
}
