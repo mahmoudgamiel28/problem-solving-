{
 "cells": [
  {
   "cell_type": "markdown",
   "metadata": {},
   "source": [
    "Alice and Bob each created one problem for HackerRank. A reviewer rates the two challenges, awarding points on a scale from *1* to *100* for three categories: *problem clarity*, *originality*, and *difficulty*.\n",
    "\n",
    "The rating for Alice's challenge is the triplet *a = (a[0], a[1], a[2])*, and the rating for Bob's challenge is the triplet *b = (b[0], b[1], b[2])*.\n",
    "\n",
    "The task is to find their *comparison points* by comparing *a[0]* with *b[0]*, *a[1]* with *b[1]*, and *a[2]* with *b[2]*.\n",
    "\n",
    "- If *a[i] > b[i]*, then Alice is awarded *1* point.\n",
    "- If *a[i] < b[i]*, then Bob is awarded *1* point.\n",
    "- If *a[i] = b[i]*, then neither person receives a point.\n",
    "\n",
    "Comparison points is the total points a person earned.\n",
    "Given *a* and *b*, determine their respective comparison points.\n",
    "\n",
    "**Example**\n",
    "\n",
    "*a = [1, 2, 3]*  \n",
    "*b = [3, 2, 1]*  \n",
    "\n",
    "- For elements *0*, Bob is awarded a point because *a[0] .*\n",
    "  *- For the equal elements *a[1]* and *b[1]*, no points are earned.\n",
    "- Finally, for elements *2*, *a[2] > b[2]* so Alice receives a point.*\n",
    "\n",
    "\n",
    "The return array is *[1, 1]* with Alice's score first and Bob's second.\n",
    "\n",
    "**Function Description**\n",
    "\n",
    "Complete the function *compareTriplets* in the editor below.\n",
    "\n",
    "compareTriplets has the following parameter(s):\n",
    "\n",
    "- *int a[3]*: Alice's challenge rating\n",
    "- *int b[3]*: Bob's challenge rating\n",
    "\n",
    "**Return**\n",
    "\n",
    "- *int[2]*: Alice's score is in the first position, and Bob's score is in the second.\n",
    "\n",
    "**Input Format**\n",
    "\n",
    "The first line contains *3* space-separated integers, *a[0]*, *a[1]*, and *a[2]*, the respective values in triplet *a*.  \n",
    "The second line contains *3* space-separated integers, *b[0]*, *b[1]*, and *b[2]*, the respective values in triplet *b*.\n",
    "\n",
    "**Constraints**\n",
    "\n",
    "- *1 ≤ a[i] ≤ 100*\n",
    "- *1 ≤ b[i] ≤ 100*\n",
    "\n",
    "**Sample Input 0**\n",
    "\n",
    "<code>6 7\n",
    "3 6 10</code>\n",
    "\n",
    "**Sample Output 0**\n",
    "\n",
    "<code>1 1</code>\n",
    "\n",
    "**Explanation 0**\n",
    "\n",
    "In this example:\n",
    "\n",
    "- $a$ = $(a[0],a[1],a[2])$ = $(5,6,7)$ \n",
    "\n",
    "- $b$ = $(b[0],b[1],b[1])$ = $(3,6,10)$ \n",
    "\n",
    "Now, let's compare each individual score:\n",
    "\n",
    "- $a[0]>b[0]$ , so Alice receives $1$ point.\n",
    "- $a[1]=b[1]$ , so nobody receives a point.\n",
    "- $a[2]<b[2]$ , so Bob receives $1$ point.\n",
    "\n",
    "Alice's comparison score is , and Bob's comparison score is . Thus, we return the array ."
   ]
  },
  {
   "cell_type": "code",
   "execution_count": 7,
   "metadata": {},
   "outputs": [],
   "source": [
    "def compareTriplets(a, b):\n",
    "    c=[0,0]\n",
    "    for i in range(3):\n",
    "        if (a[i]>b[i]):\n",
    "            c[0]+=1\n",
    "        elif (a[i]<b[i]):\n",
    "            c[1]+=1\n",
    "    return c        "
   ]
  },
  {
   "cell_type": "code",
   "execution_count": 8,
   "metadata": {},
   "outputs": [
    {
     "name": "stdout",
     "output_type": "stream",
     "text": [
      "[1, 1]\n"
     ]
    }
   ],
   "source": [
    "a = [1, 2, 3]\n",
    "b = [3, 2, 1]\n",
    "print(compareTriplets(a,b))"
   ]
  }
 ],
 "metadata": {
  "kernelspec": {
   "display_name": "Python 3",
   "language": "python",
   "name": "python3"
  },
  "language_info": {
   "codemirror_mode": {
    "name": "ipython",
    "version": 3
   },
   "file_extension": ".py",
   "mimetype": "text/x-python",
   "name": "python",
   "nbconvert_exporter": "python",
   "pygments_lexer": "ipython3",
   "version": "3.7.6"
  }
 },
 "nbformat": 4,
 "nbformat_minor": 4
}
