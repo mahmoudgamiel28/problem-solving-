{
 "cells": [
  {
   "cell_type": "markdown",
   "metadata": {},
   "source": [
    "Given five positive integers, find the minimum and maximum values that can be calculated by summing exactly four of the five integers. Then print the respective minimum and maximum values as a single line of two space-separated long integers.\n",
    "\n",
    "**Example**  \n",
    "\n",
    "$arr = [1,3,5,7,9]$\n",
    "\n",
    "The minimum sum is  $1+3+5+7 =15 $ and the maximum sum is $ 3+5+7 +9 = 24 $. The function prints\n",
    "\n",
    "<code>16 24\n",
    "</code>\n",
    "\n",
    "**Function Description**\n",
    "\n",
    "Complete the *miniMaxSum* function in the editor below.\n",
    "\n",
    "miniMaxSum has the following parameter(s):\n",
    "\n",
    "- *arr*: an array of  $5$ integers\n",
    "\n",
    "**Print**\n",
    "\n",
    "Print two space-separated integers on one line: the minimum sum and the maximum sum of  of  elements.\n",
    "\n",
    "**Input Format**\n",
    "\n",
    "A single line of five space-separated integers.\n",
    "\n",
    "**Output Format**\n",
    "\n",
    "Print two space-separated long integers denoting the respective minimum and maximum values that can be calculated by summing exactly *four* of the five integers. (The output can be greater than a 32 bit integer.)\n",
    "\n",
    "**Sample Input**\n",
    "\n",
    "<code>1 2 3 4 5\n",
    "</code>\n",
    "\n",
    "**Sample Output**\n",
    "\n",
    "<code>10 14</code>\n",
    "\n",
    "**Explanation**\n",
    "\n",
    "The numbers are , , , , and . Calculate the following sums using four of the five integers:\n",
    "\n",
    "1. Sum everything except , the sum is .\n",
    "2. Sum everything except , the sum is .\n",
    "3. Sum everything except , the sum is .\n",
    "4. Sum everything except , the sum is .\n",
    "5. Sum everything except , the sum is .\n",
    "\n",
    "**Hints:** Beware of integer overflow! Use 64-bit Integer.\n"
   ]
  },
  {
   "cell_type": "code",
   "execution_count": 5,
   "metadata": {},
   "outputs": [
    {
     "name": "stdout",
     "output_type": "stream",
     "text": [
      "16 24\n"
     ]
    }
   ],
   "source": [
    "def miniMaxSum(arr):\n",
    "    first = sum(arr)-max(arr)\n",
    "    second = sum(arr)-min(arr)\n",
    "    print(first,second)\n",
    "a =[1,3,5,7,9]\n",
    "miniMaxSum(a)    "
   ]
  }
 ],
 "metadata": {
  "kernelspec": {
   "display_name": "Python 3",
   "language": "python",
   "name": "python3"
  },
  "language_info": {
   "codemirror_mode": {
    "name": "ipython",
    "version": 3
   },
   "file_extension": ".py",
   "mimetype": "text/x-python",
   "name": "python",
   "nbconvert_exporter": "python",
   "pygments_lexer": "ipython3",
   "version": "3.7.6"
  }
 },
 "nbformat": 4,
 "nbformat_minor": 4
}
