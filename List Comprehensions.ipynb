{
 "cells": [
  {
   "cell_type": "markdown",
   "metadata": {},
   "source": [
    "Let's learn about list comprehensions! You are given three integers $x,y$  and $z$ representing the dimensions of a cuboid along with an integer $n$. Print a list of all possible coordinates given by $(i,j,k)$ on a 3D grid where the sum of  $i + j + k$ is not equal to $n$. Here, $0$ $\\leq$ $i$ $\\leq$ $x$ $;$  $0$ $\\leq$ $j$ $\\leq$ $y$ $;$ $0$ $\\leq$ $k$ $\\leq$ $z$ . Please use list comprehensions rather than multiple loops, as a learning exercise.\n",
    "\n",
    "**Example**  \n",
    "\n",
    "$x = 1$ \n",
    "\n",
    "$y = 1$\n",
    "\n",
    "$z = 2$\n",
    "\n",
    "$n = 3$ \n",
    "\n",
    "All permutations of  are:\n",
    "\n",
    "$[[0, 0, 0], [0, 0, 1], [0, 0,2], [0, 1, 0], [0 ,0 ,1] ,[1, 0, 0],[1, 0, 2],[1, 1, 0], [1, 1, 1],[1, 1, 2]][[0, 0, 0], [0, 0, 1], [0, 0, 2], [0, 1, 0], [0, 1, 1], [0, 1, 2], [1, 0, 0], [1, 0, 1], [1, 0, 2], [1, 1, 0], [1, 1, 1], [1, 1, 2]]$\n",
    "\n",
    "Print an array of the elements that do not sum to  $n = 3$.\n",
    "\n",
    "$[[0, 0, 0], [0, 0, 1], [0, 0, 2], [0, 1, 0], [0, 1, 1], [1, 0, 0], [1, 0, 1], [1, 1, 0], [1, 1, 2]]$\n",
    "\n",
    "**Input Format**\n",
    "\n",
    "Four integers $x,y,z$ and $n$ , each on a separate line.\n",
    "\n",
    "**Constraints**\n",
    "\n",
    "Print the list in lexicographic increasing order.\n",
    "\n",
    "**Sample Input 0**\n",
    "\n",
    "<code>1\n",
    "1\n",
    "1\n",
    "2</code>\n",
    "\n",
    "**Sample Output 0**\n",
    "\n",
    "<code>[[0, 0, 0], [0, 0, 1], [0, 1, 0], [1, 0, 0], [1, 1, 1]]</code>\n",
    "\n",
    "**Explanation 0**\n",
    "\n",
    "Each variable $x,y$ and $z$ will have values of $0$ or $1$. All permutations of lists in the form .  $[i,j,k] = [[0, 0, 0], [0, 0, 1], [0, 1, 0], [1, 0, 0], [1, 1, 1]]$\n",
    "Remove all arrays that sum to $n = 2$ to leave only the valid permutations.\n",
    "\n",
    "**Sample Input 1**\n",
    "\n",
    "<code>2\n",
    "2\n",
    "2\n",
    "2</code>\n",
    "\n",
    "**Sample Output 1**\n",
    "\n",
    "<code>[[0, 0, 0], [0, 0, 1], [0, 1, 0], [0, 1, 2], [0, 2, 1], [0, 2, 2], [1, 0, 0], [1, 0, 2], [1, 1, 1], [1, 1, 2], [1, 2, 0], [1, 2, 1], [1, 2, 2], [2, 0, 1], [2, 0, 2], [2, 1, 0], [2, 1, 1], [2, 1, 2], [2, 2, 0], [2, 2, 1], [2, 2, 2]]</code>\n",
    "\n",
    "\n"
   ]
  },
  {
   "cell_type": "code",
   "execution_count": 13,
   "metadata": {},
   "outputs": [
    {
     "name": "stdout",
     "output_type": "stream",
     "text": [
      "1\n",
      "1\n",
      "2\n",
      "3\n",
      "[[0, 0, 0], [0, 0, 1], [0, 0, 2], [0, 1, 0], [0, 1, 1], [1, 0, 0], [1, 0, 1], [1, 1, 0], [1, 1, 2]]\n"
     ]
    }
   ],
   "source": [
    "    x = int(input())\n",
    "    y = int(input())\n",
    "    z = int(input())\n",
    "    n = int(input())\n",
    "    print([[i,j,k] for i in range(x+1) for j in range(y+1) for k in range(z+1) if sum([i,j,k])!=n])"
   ]
  }
 ],
 "metadata": {
  "kernelspec": {
   "display_name": "Python 3",
   "language": "python",
   "name": "python3"
  },
  "language_info": {
   "codemirror_mode": {
    "name": "ipython",
    "version": 3
   },
   "file_extension": ".py",
   "mimetype": "text/x-python",
   "name": "python",
   "nbconvert_exporter": "python",
   "pygments_lexer": "ipython3",
   "version": "3.7.6"
  }
 },
 "nbformat": 4,
 "nbformat_minor": 4
}
