{
 "cells": [
  {
   "cell_type": "markdown",
   "metadata": {},
   "source": [
    "Maria plays college basketball and wants to go pro. Each season she maintains a record of her play. She tabulates the number of times she breaks her season record for *most points* and *least points* in a game. Points scored in the first game establish her record for the season, and she begins counting from there.\n",
    "\n",
    "**Example** \n",
    "\n",
    "$scores = [12,24,10,24] $\n",
    "\n",
    "Scores are in the same order as the games played. She tabulates her results as follows:\n",
    "\n",
    "                                     Count\n",
    "    Game  Score  Minimum  Maximum   Min Max\n",
    "     0      12     12       12       0   0\n",
    "     1      24     12       24       0   1\n",
    "     2      10     10       24       1   1\n",
    "     3      24     10       24       1   1\n",
    "\n",
    "Given the scores for a season, determine the number of times Maria breaks her records for *most* and *least* points scored during the season.\n",
    "\n",
    "**Function Description**\n",
    "\n",
    "Complete the *breakingRecords* function in the editor below.\n",
    "\n",
    "breakingRecords has the following parameter(s):\n",
    "\n",
    "- *int scores[n]:* points scored per game\n",
    "\n",
    "**Returns**\n",
    "\n",
    "- *int[2]:* An array with the numbers of times she broke her records. Index$ 0$ is for breaking *most points* records, and index $1 $is for breaking *least points* records.\n",
    "\n",
    "**Input Format**\n",
    "\n",
    "The first line contains an integer $n$, the number of games.  \n",
    "The second line contains $n$ space-separated integers describing the respective values of .\n",
    "\n",
    "**Sample Input 0**\n",
    "\n",
    "9\n",
    "10 5 20 20 4 5 2 25 1\n",
    "\n",
    "**Sample Output 0**\n",
    "\n",
    "2 4\n",
    "\n",
    "**Explanation 0**\n",
    "\n",
    "The diagram below depicts the number of times Maria broke her best and worst records throughout the season:\n",
    "\n",
    "![image](https://s3.amazonaws.com/hr-assets/0/1487360234-6bca5c518d-breakingbest3.png)\n",
    "\n",
    "She broke her best record twice (after games $2$ and $7$ ) and her worst record four times (after games $1,4 ,6 ,$ and $8$), so we print `2 4` as our answer. Note that she *did not* break her record for best score during game $3$, as her score during that game was *not* strictly greater than her best record at the time.\n",
    "\n",
    "**Sample Input 1**\n",
    "\n",
    "10\n",
    "3 4 21 36 10 28 35 5 24 42\n",
    "\n",
    "**Sample Output 1**\n",
    "\n",
    "4 0\n",
    "\n",
    "**Explanation 1**\n",
    "\n",
    "The diagram below depicts the number of times Maria broke her best and worst records throughout the season:\n",
    "\n",
    "![image](https://s3.amazonaws.com/hr-assets/0/1487360375-aee4388234-breakingbest5.png)\n",
    "\n",
    "She broke her best record four times (after games$1,2, 3,$ and $9$) and  her worst record zero times (no score during the season was lower than the one she earned during her first game), so we print `4 0` as our answer.\n"
   ]
  },
  {
   "cell_type": "code",
   "execution_count": 12,
   "metadata": {},
   "outputs": [],
   "source": [
    "def breakingRecords(scores):\n",
    "    max_scores = []\n",
    "    max_scores.append(scores[0])\n",
    "    min_scores = []\n",
    "    min_scores.append(scores[0])\n",
    "    for score in scores:\n",
    "        if score > max(max_scores):\n",
    "            max_scores.append(score)\n",
    "        if score < min(min_scores):\n",
    "            min_scores.append(score)\n",
    "    return [len(max_scores)-1,len(min_scores)-1]        \n",
    "        \n"
   ]
  },
  {
   "cell_type": "code",
   "execution_count": 13,
   "metadata": {},
   "outputs": [
    {
     "name": "stdout",
     "output_type": "stream",
     "text": [
      "[4, 0]\n"
     ]
    }
   ],
   "source": [
    "𝑠𝑐𝑜𝑟𝑒𝑠 =[3,4,21,36,10,28,35,5,24,42]\n",
    "print(breakingRecords(𝑠𝑐𝑜𝑟𝑒𝑠))\n"
   ]
  }
 ],
 "metadata": {
  "kernelspec": {
   "display_name": "Python 3",
   "language": "python",
   "name": "python3"
  },
  "language_info": {
   "codemirror_mode": {
    "name": "ipython",
    "version": 3
   },
   "file_extension": ".py",
   "mimetype": "text/x-python",
   "name": "python",
   "nbconvert_exporter": "python",
   "pygments_lexer": "ipython3",
   "version": "3.7.6"
  }
 },
 "nbformat": 4,
 "nbformat_minor": 4
}
