{
 "cells": [
  {
   "cell_type": "markdown",
   "metadata": {},
   "source": [
    "Sam's house has an apple tree and an orange tree that yield an abundance of fruit. Using the information given below, determine the number of apples and oranges that land on Sam's house.\n",
    "\n",
    "In the diagram below:\n",
    "\n",
    "- The red region denotes the house, where $s$ is the start point, and $t$ is the endpoint. The apple tree is to the left of the house, and the orange tree is to its right.\n",
    "- Assume the trees are located on a single point, where the apple tree is at point $a$ , and the orange tree is at point $b$ .\n",
    "- When a fruit falls from its tree, it lands $d$ units of distance from its tree of origin along the $x$-axis. *A negative value of $d$ means the fruit fell $d$ units to the tree's left, and a positive value of $d$ means it falls $d$ units to the tree's right. *\n",
    "\n",
    "![Apple and orange(2).png](https://s3.amazonaws.com/hr-challenge-images/25220/1474218925-f2a791d52c-Appleandorange2.png)\n",
    "\n",
    "Given the value of $d$ for $m$ apples and $n$ oranges, determine how many apples and oranges will fall on Sam's house (i.e., in the inclusive range $[s,t]$ )?\n",
    "\n",
    "For example, Sam's house is between $s=7$ and $t=10$. The apple tree is located at $a=4$ and the orange at $b=12$ . There are $m=3$ apples and $n=3$ oranges. Apples are thrown $apples = [2,3,-4]$ units distance from $a$, and $oranges = [3,-2,-4]$ units distance. Adding each apple distance to the position of the tree, they land at $[4+2,4+3,4-4] = [6,7,0]$. Oranges land at $[12+3,12-2,12+-4] = [15,10,8]$ . One apple and two oranges land in the inclusive range $7-10$ so we print\n",
    "\n",
    "<code>1\n",
    "2\n",
    "</code>\n",
    "\n",
    "**Function Description**\n",
    "\n",
    "Complete the *countApplesAndOranges* function in the editor below. It should print the number of apples and oranges that land on Sam's house, each on a separate line.\n",
    "\n",
    "countApplesAndOranges has the following parameter(s):\n",
    "\n",
    "- *s*: integer, starting point of Sam's house location.\n",
    "- *t*: integer, ending location of Sam's house location.\n",
    "- *a*: integer, location of the Apple tree.\n",
    "- *b*: integer, location of the Orange tree.\n",
    "- *apples*: integer array, distances at which each apple falls from the tree.\n",
    "- *oranges*: integer array, distances at which each orange falls from the tree.\n",
    "\n",
    "**Input Format**\n",
    "\n",
    "The first line contains two space-separated integers denoting the respective values of $s $and $t$.  \n",
    "The second line contains two space-separated integers denoting the respective values of $a$ and $b$.  \n",
    "The third line contains two space-separated integers denoting the respective values of $m$ and $n$.  \n",
    "The fourth line contains $m$ space-separated integers denoting the respective distances that each apple falls from point $a$.  \n",
    "The fifth line contains $n$ space-separated integers denoting the respective distances that each orange falls from point $b$.\n",
    "\n",
    "**Output Format**\n",
    "\n",
    "Print two integers on two different lines:\n",
    "\n",
    "1. The first integer: the number of apples that fall on Sam's house.\n",
    "2. The second integer: the number of oranges that fall on Sam's house.\n",
    "\n",
    "**Sample Input 0**\n",
    "\n",
    "<code>7 11\n",
    "5 15\n",
    "3 2\n",
    "-2 2 1\n",
    "5 -6</code>\n",
    "\n",
    "**Sample Output 0**\n",
    "\n",
    "<code>1\n",
    "1</code>\n",
    "\n",
    "**Explanation 0**\n",
    "\n",
    "The first apple falls at position $5 - 2 = 3$ .  \n",
    "The second apple falls at position $5 + 2 = 7$ .  \n",
    "The third apple falls at position $5 + 1 = 6$ .  \n",
    "The first orange falls at position $15 + 5 =20$ .  \n",
    "The second orange falls at position $15 - 6 = 9$ .  \n",
    "Only one fruit (the second apple) falls within the region between $7$ and $11$ , so we print $1$ as our first line of output.  \n",
    "Only the second orange falls within the region between $7$ and $11$ , so we print $1$ as our second line of output.\n",
    "\n",
    "\n"
   ]
  },
  {
   "cell_type": "code",
   "execution_count": 14,
   "metadata": {},
   "outputs": [],
   "source": [
    "def countApplesAndOranges(s, t, a, b, apples, oranges):\n",
    "    c=[0,0]\n",
    "    for i in range(len(apples)):\n",
    "        apples[i]= apples[i]+a\n",
    "        if ((apples[i] >= s)and(apples[i] <= t)):\n",
    "            c[0]+=1\n",
    "    for j in range(len(oranges)):        \n",
    "        oranges[j]= oranges[j]+b\n",
    "        if ((oranges[j] >= s)and(oranges[j] <= t)):\n",
    "            c[1]+=1\n",
    "    print(c[0])\n",
    "    print(c[1])\n",
    "        \n",
    "    "
   ]
  },
  {
   "cell_type": "code",
   "execution_count": 15,
   "metadata": {},
   "outputs": [
    {
     "name": "stdout",
     "output_type": "stream",
     "text": [
      "1\n",
      "2\n"
     ]
    }
   ],
   "source": [
    "countApplesAndOranges(7, 10, 4, 12, [2,3,-4], [3,-2,-4])"
   ]
  }
 ],
 "metadata": {
  "kernelspec": {
   "display_name": "Python 3",
   "language": "python",
   "name": "python3"
  },
  "language_info": {
   "codemirror_mode": {
    "name": "ipython",
    "version": 3
   },
   "file_extension": ".py",
   "mimetype": "text/x-python",
   "name": "python",
   "nbconvert_exporter": "python",
   "pygments_lexer": "ipython3",
   "version": "3.7.6"
  }
 },
 "nbformat": 4,
 "nbformat_minor": 4
}
