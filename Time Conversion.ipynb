{
 "cells": [
  {
   "cell_type": "markdown",
   "metadata": {},
   "source": [
    "Given a time in $12$ [-hour AM/PM format](https://en.wikipedia.org/wiki/12-hour_clock), convert it to military (24-hour) time.\n",
    "\n",
    "Note: - 12:00:00AM on a 12-hour clock is 00:00:00 on a 24-hour clock.  \n",
    "\n",
    "- 12:00:00PM on a 12-hour clock is 12:00:00 on a 24-hour clock.\n",
    "\n",
    "**Example**\n",
    "\n",
    "- $s= '12:01:00$**PM** $'$\n",
    " <br> Return '12:01:00'.<br><br>\n",
    "\n",
    "- $s= '12:01:00$**AM** $'$ \n",
    " <br> Return '00:01:00'.\n",
    "\n",
    "**Function Description**\n",
    "\n",
    "Complete the *timeConversion* function in the editor below. It should return a new string representing the input time in 24 hour format.\n",
    "\n",
    "timeConversion has the following parameter(s):\n",
    "\n",
    "- *string s*: a time in $12$ hour format\n",
    "\n",
    "**Returns**\n",
    "\n",
    "- *string*: the time in $24$ hour format\n",
    "\n",
    "**Input Format**\n",
    "\n",
    "A single string $s$  that represents a time in$12$ -hour clock format .\n",
    "\n",
    "**Constraints**\n",
    "\n",
    "- All input times are valid\n",
    "\n",
    "**Sample Input 0**\n",
    "\n",
    "<code>07:05:45PM</code>\n",
    "\n",
    "**Sample Output 0**\n",
    "\n",
    "<code>19:05:45</code>\n"
   ]
  },
  {
   "cell_type": "code",
   "execution_count": 57,
   "metadata": {},
   "outputs": [],
   "source": [
    "def timeConversion(s):\n",
    "    timel=s.split(':')\n",
    "    if ((s.find('AM') !=-1)and (timel[0]==\"12\")):\n",
    "        timel[0]=int(timel[0])-12\n",
    "        final_time = \"0{}:{}:{}\".format(timel[0],timel[1],timel[2])\n",
    "    elif(((s.find('PM') !=-1) and (timel[0]==\"12\")) or (s.find('PM') ==-1) ):\n",
    "        final_time= s\n",
    "    else:\n",
    "        timel[0]=int(timel[0])+12\n",
    "        final_time = final_time = \"{}:{}:{}\".format(timel[0],timel[1],timel[2])\n",
    "    return (final_time[:-2])    \n",
    "    \n",
    "    "
   ]
  },
  {
   "cell_type": "code",
   "execution_count": 58,
   "metadata": {},
   "outputs": [
    {
     "name": "stdout",
     "output_type": "stream",
     "text": [
      "00:05:39\n"
     ]
    }
   ],
   "source": [
    "s='12:05:39AM'\n",
    "print(timeConversion(s))"
   ]
  }
 ],
 "metadata": {
  "kernelspec": {
   "display_name": "Python 3",
   "language": "python",
   "name": "python3"
  },
  "language_info": {
   "codemirror_mode": {
    "name": "ipython",
    "version": 3
   },
   "file_extension": ".py",
   "mimetype": "text/x-python",
   "name": "python",
   "nbconvert_exporter": "python",
   "pygments_lexer": "ipython3",
   "version": "3.7.6"
  }
 },
 "nbformat": 4,
 "nbformat_minor": 4
}
