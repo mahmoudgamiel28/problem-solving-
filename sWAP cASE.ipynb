{
 "cells": [
  {
   "cell_type": "markdown",
   "metadata": {},
   "source": [
    "You are given a string and your task is to *swap cases*. In other words, convert all lowercase letters to uppercase letters and vice versa.\n",
    "\n",
    "**For Example:**\n",
    "\n",
    "```\n",
    "Www.HackerRank.com → wWW.hACKERrANK.COM\n",
    "Pythonist 2 → pYTHONIST 2  \n",
    "```\n",
    "\n",
    "**Function Description**\n",
    "\n",
    "Complete the *swap_case* function in the editor below.\n",
    "\n",
    "*swap_case* has the following parameters:\n",
    "\n",
    "- *string s:* the string to modify\n",
    "\n",
    "**Returns**\n",
    "\n",
    "- *string:* the modified string\n",
    "\n",
    "**Input Format**\n",
    "\n",
    "A single line containing a string $S$.\n",
    "\n",
    "**Sample Input 0**\n",
    "\n",
    "<code>HackerRank.com presents \"Pythonist 2\".</code>\n",
    "\n",
    "**Sample Output 0**\n",
    "\n",
    "<code>hACKERrANK.COM PRESENTS \"pYTHONIST 2\".</code>\n"
   ]
  },
  {
   "cell_type": "code",
   "execution_count": 1,
   "metadata": {},
   "outputs": [],
   "source": [
    "def swap_case(s):\n",
    "    str1 = \"\"\n",
    "    s_list = list(s)\n",
    "    for l in range(len(s_list)) :\n",
    "        if s_list[l].isupper():\n",
    "            s_list[l]=s_list[l].lower()\n",
    "        else :\n",
    "            s_list[l]=s_list[l].upper()\n",
    "                \n",
    "            \n",
    "    return (str1.join(s_list))"
   ]
  },
  {
   "cell_type": "code",
   "execution_count": 2,
   "metadata": {},
   "outputs": [
    {
     "name": "stdout",
     "output_type": "stream",
     "text": [
      "hACKERrANK.COM PRESENTS \"pYTHONIST 2\"\n"
     ]
    }
   ],
   "source": [
    "s= 'HackerRank.com presents \"Pythonist 2\"'\n",
    "print(swap_case(s))"
   ]
  }
 ],
 "metadata": {
  "kernelspec": {
   "display_name": "Python 3",
   "language": "python",
   "name": "python3"
  },
  "language_info": {
   "codemirror_mode": {
    "name": "ipython",
    "version": 3
   },
   "file_extension": ".py",
   "mimetype": "text/x-python",
   "name": "python",
   "nbconvert_exporter": "python",
   "pygments_lexer": "ipython3",
   "version": "3.7.6"
  }
 },
 "nbformat": 4,
 "nbformat_minor": 4
}
