{
 "cells": [
  {
   "cell_type": "markdown",
   "metadata": {},
   "source": [
    "Two children, Lily and Ron, want to share a chocolate bar. Each of the squares has an integer on it.\n",
    "\n",
    "Lily decides to share a contiguous segment of the bar selected such that:\n",
    "\n",
    "- The length of the segment matches Ron's birth month, and,\n",
    "- The sum of the integers on the squares is equal to his birth day.\n",
    "\n",
    "Determine how many ways she can divide the chocolate.\n",
    "\n",
    "**Example** \n",
    "\n",
    "$s = [2,2,1,3,2]$ \n",
    "\n",
    "$d = 4$\n",
    "\n",
    "$m = 2$ \n",
    "\n",
    "Lily wants to find segments summing to Ron's birth day, $d = 4$ with a length equalling his birth month, $m = 2$. In this case, there are two segments meeting her criteria: [2,2] and $[1,3]$.\n",
    "\n",
    "**Function Description**\n",
    "\n",
    "Complete the *birthday* function in the editor below.\n",
    "\n",
    "birthday has the following parameter(s):\n",
    "\n",
    "- *int s[n]:* the numbers on each of the squares of chocolate\n",
    "- *int d:* Ron's birth day\n",
    "- *int m:* Ron's birth month\n",
    "\n",
    "**Returns**\n",
    "\n",
    "- *int:* the number of ways the bar can be divided\n",
    "\n",
    "**Input Format**\n",
    "\n",
    "The first line contains an integer $n$, the number of squares in the chocolate bar.  \n",
    "The second line contains $n$ space-separated integers $s[i]$, the numbers on the chocolate squares where $0 =< i <n$ .  \n",
    "The third line contains two space-separated integers,$ d $ and ,  $m$ Ron's birth day and his birth month.\n",
    "\n",
    "**Sample Input 0**\n",
    "\n",
    "<code>5\n",
    "1 2 1 3 2\n",
    "3 2</code>\n",
    "\n",
    "**Sample Output 0**\n",
    "\n",
    "<code>2</code>\n",
    "\n",
    "**Explanation 0**\n",
    "\n",
    "Lily wants to give Ron $m = 2$ squares summing to $d = 3$. The following two segments meet the criteria:\n",
    "\n",
    "![image](https://s3.amazonaws.com/hr-assets/0/1489060874-a04ddb06cf-choco4.png)\n",
    "\n",
    "**Sample Input 1**\n",
    "\n",
    "<code>6\n",
    "1 1 1 1 1 1\n",
    "3 2</code>\n",
    "\n",
    "**Sample Output 1**\n",
    "\n",
    "<code>0</code>\n",
    "\n",
    "**Explanation 1**\n",
    "\n",
    "Lily only wants to give Ron$ m = 2$ consecutive squares of chocolate whose integers sum to $d = 3$. There are no possible pieces satisfying these constraints:\n",
    "\n",
    "![image](https://s3.amazonaws.com/hr-assets/0/1489060978-e33d905668-choco5.png)\n",
    "\n",
    "Thus, we print $0$ as our answer.\n",
    "\n",
    "**Sample Input 2**\n",
    "\n",
    "<code>1\n",
    "4\n",
    "4 1</code>\n",
    "\n",
    "**Sample Output 2**\n",
    "\n",
    "<code>1</code>\n",
    "\n",
    "**Explanation 2**\n",
    "\n",
    "Lily only wants to give Ron $m = 1$ square of chocolate with an integer value of $d = 4$. Because the only square of chocolate in the bar satisfies this constraint, we print $1$ as our answer.\n",
    "\n",
    "\n"
   ]
  },
  {
   "cell_type": "code",
   "execution_count": 29,
   "metadata": {},
   "outputs": [],
   "source": [
    "def birthday(s, d, m):\n",
    "    count = 0\n",
    "    for i in range(len(s)-m+1):\n",
    "        c=sum(s[i+0:i+m])\n",
    "        if c==d:\n",
    "            count+=1\n",
    "    return count "
   ]
  },
  {
   "cell_type": "code",
   "execution_count": 30,
   "metadata": {},
   "outputs": [
    {
     "name": "stdout",
     "output_type": "stream",
     "text": [
      "6\n"
     ]
    }
   ],
   "source": [
    "s=[4,5,4,5,1,2,1,4,3,2,4,4,3,5,2,2,5,4,3,2,3,5,2,1,5,2,3,1,2,3,3,1,2,5]\n",
    "d=18\n",
    "m=6\n",
    "print(birthday(s,d,m))\n"
   ]
  }
 ],
 "metadata": {
  "kernelspec": {
   "display_name": "Python 3",
   "language": "python",
   "name": "python3"
  },
  "language_info": {
   "codemirror_mode": {
    "name": "ipython",
    "version": 3
   },
   "file_extension": ".py",
   "mimetype": "text/x-python",
   "name": "python",
   "nbconvert_exporter": "python",
   "pygments_lexer": "ipython3",
   "version": "3.7.6"
  }
 },
 "nbformat": 4,
 "nbformat_minor": 4
}
