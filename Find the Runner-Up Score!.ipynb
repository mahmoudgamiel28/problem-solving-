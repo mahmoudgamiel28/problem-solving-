{
 "cells": [
  {
   "cell_type": "markdown",
   "metadata": {},
   "source": [
    "Given the participants' score sheet for your University Sports Day, you are required to find the runner-up score. You are given $n$  scores. Store them in a list and find the score of the runner-up.\n",
    "\n",
    "**Input Format**\n",
    "\n",
    "The first line contains $n$. The second line contains an array $A[]$  of  integers each separated by a space.\n",
    "\n",
    "**Output Format**\n",
    "\n",
    "Print the runner-up score.\n",
    "\n",
    "**Sample Input 0**\n",
    "\n",
    "<code>5\n",
    "2 3 6 6 5</code>\n",
    "\n",
    "**Sample Output 0**\n",
    "\n",
    "<code>5</code>\n",
    "\n",
    "**Explanation 0**\n",
    "\n",
    "Given list is $[2,3,6,6,5]$ . The maximum score is $6$, second maximum is $5$. Hence, we print $5$ as the runner-up score."
   ]
  },
  {
   "cell_type": "code",
   "execution_count": 31,
   "metadata": {},
   "outputs": [],
   "source": [
    "n = int(input())\n",
    "arr = map(int, input().split())\n",
    "set_list = set(arr)\n",
    "arr = list(set_list)\n",
    "arr.sort()\n",
    "print(arr[-2])"
   ]
  }
 ],
 "metadata": {
  "kernelspec": {
   "display_name": "Python 3",
   "language": "python",
   "name": "python3"
  },
  "language_info": {
   "codemirror_mode": {
    "name": "ipython",
    "version": 3
   },
   "file_extension": ".py",
   "mimetype": "text/x-python",
   "name": "python",
   "nbconvert_exporter": "python",
   "pygments_lexer": "ipython3",
   "version": "3.7.6"
  }
 },
 "nbformat": 4,
 "nbformat_minor": 4
}
