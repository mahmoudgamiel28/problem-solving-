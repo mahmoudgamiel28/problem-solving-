{
 "cells": [
  {
   "cell_type": "markdown",
   "metadata": {},
   "source": [
    "Staircase detail\n",
    "\n",
    "This is a staircase of size ***n*** = ***4*** :\n",
    "\n",
    "```\n",
    "   #\n",
    "  ##\n",
    " ###\n",
    "####\n",
    "```\n",
    "\n",
    "Its base and height are both equal to  $n $. It is drawn using `#` symbols and spaces. *The last line is not preceded by any spaces.*\n",
    "\n",
    "Write a program that prints a staircase of size $n $.\n",
    "\n",
    "**Function Description**\n",
    "\n",
    "Complete the *staircase* function in the editor below.\n",
    "\n",
    "staircase has the following parameter(s):\n",
    "\n",
    "- *int n*: an integer\n",
    "\n",
    "**Print**\n",
    "\n",
    "Print a staircase as described above.\n",
    "\n",
    "**Input Format**\n",
    "\n",
    "A single integer, $n$ , denoting the size of the staircase.\n",
    "\n",
    "**Output Format**\n",
    "\n",
    "Print a staircase of size $n$ using `#` symbols and spaces.\n",
    "\n",
    "**Note**: The last line must have $0$ spaces in it.\n",
    "\n",
    "**Sample Input**\n",
    "\n",
    "```\n",
    "6 \n",
    "```\n",
    "\n",
    "**Sample Output**\n",
    "\n",
    "```\n",
    "     #\n",
    "    ##\n",
    "   ###\n",
    "  ####\n",
    " #####\n",
    "######\n",
    "```\n",
    "\n",
    "**Explanation**\n",
    "\n",
    "The staircase is right-aligned, composed of `#` symbols and spaces, and has a height and width of $ n=6$.\n",
    "\n",
    "\n"
   ]
  },
  {
   "cell_type": "code",
   "execution_count": 22,
   "metadata": {},
   "outputs": [
    {
     "name": "stdout",
     "output_type": "stream",
     "text": [
      "    #\n",
      "   ##\n",
      "  ###\n",
      " ####\n",
      "#####\n"
     ]
    }
   ],
   "source": [
    "def staircase(n):\n",
    "    for i in range(n):\n",
    "        print((n-(i+1))*\" \"+(i+1)*\"#\")\n",
    "staircase(5)        \n",
    "    "
   ]
  }
 ],
 "metadata": {
  "kernelspec": {
   "display_name": "Python 3",
   "language": "python",
   "name": "python3"
  },
  "language_info": {
   "codemirror_mode": {
    "name": "ipython",
    "version": 3
   },
   "file_extension": ".py",
   "mimetype": "text/x-python",
   "name": "python",
   "nbconvert_exporter": "python",
   "pygments_lexer": "ipython3",
   "version": "3.7.6"
  }
 },
 "nbformat": 4,
 "nbformat_minor": 4
}
