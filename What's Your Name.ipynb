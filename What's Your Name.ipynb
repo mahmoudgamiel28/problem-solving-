{
 "cells": [
  {
   "cell_type": "markdown",
   "metadata": {},
   "source": [
    "You are given the firstname and lastname of a person on two different lines. Your task is to read them and print the following:\n",
    "\n",
    "> Hello `firstname` `lastname`! You just delved into python.\n",
    "\n",
    "**Function Description**\n",
    "\n",
    "Complete the *print_full_name* function in the editor below.\n",
    "\n",
    "*print_full_name* has the following parameters:\n",
    "\n",
    "- *string first:* the first name\n",
    "- *string last:* the last name\n",
    "\n",
    "**Prints**\n",
    "\n",
    "- *string:* 'Hello $firstname$  $lastname$! You just delved into python' where $firstname$ and $lastname$ are replaced with  $first$ and $last$.\n",
    "\n",
    "**Input Format**\n",
    "\n",
    "The first line contains the first name, and the second line contains the last name.\n",
    "\n",
    "**Constraints**\n",
    "\n",
    "The length of the first and last names are each ≤ $10$ .\n",
    "\n",
    "**Sample Input 0**\n",
    "\n",
    "<code>Ross\n",
    "Taylor</code>\n",
    "\n",
    "**Sample Output 0**\n",
    "\n",
    "<code>Hello Ross Taylor! You just delved into python.</code>\n",
    "\n",
    "**Explanation 0**\n",
    "\n",
    "The input read by the program is stored as a string data type. A string is a collection of characters.\n"
   ]
  },
  {
   "cell_type": "code",
   "execution_count": 1,
   "metadata": {},
   "outputs": [],
   "source": [
    "# Complete the 'print_full_name' function below.\n",
    "#\n",
    "# The function is expected to return a STRING.\n",
    "# The function accepts following parameters:\n",
    "#  1. STRING first\n",
    "#  2. STRING last\n",
    "#\n",
    "\n",
    "def print_full_name(first, last):\n",
    "    print(\"Hello {} {}! You just delved into python.\".format(first, last))"
   ]
  },
  {
   "cell_type": "code",
   "execution_count": 2,
   "metadata": {},
   "outputs": [
    {
     "name": "stdout",
     "output_type": "stream",
     "text": [
      "Hello mahmoud Gamiel! You just delved into python.\n"
     ]
    }
   ],
   "source": [
    "first = 'mahmoud'\n",
    "last = 'Gamiel'\n",
    "print_full_name(first, last)"
   ]
  }
 ],
 "metadata": {
  "kernelspec": {
   "display_name": "Python 3",
   "language": "python",
   "name": "python3"
  },
  "language_info": {
   "codemirror_mode": {
    "name": "ipython",
    "version": 3
   },
   "file_extension": ".py",
   "mimetype": "text/x-python",
   "name": "python",
   "nbconvert_exporter": "python",
   "pygments_lexer": "ipython3",
   "version": "3.7.6"
  }
 },
 "nbformat": 4,
 "nbformat_minor": 4
}
