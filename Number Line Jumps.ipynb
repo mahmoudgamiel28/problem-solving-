{
 "cells": [
  {
   "cell_type": "markdown",
   "metadata": {},
   "source": [
    "You are choreographing a circus show with various animals. For one act, you are given two kangaroos on a number line ready to jump in the positive direction (i.e, toward positive infinity).\n",
    "\n",
    "- The first kangaroo starts at location $x1$ and moves at a rate of $v1$ meters per jump.\n",
    "- The second kangaroo starts at location $x2$ and moves at a rate of $v2$ meters per jump.\n",
    "\n",
    "You have to figure out a way to get both kangaroos at the same location at the same time as part of the show. If it is possible, return `YES`, otherwise return `NO`.\n",
    "\n",
    "**Example** \n",
    "\n",
    "$x1 = 2$\n",
    "\n",
    "$v1 = 1$\n",
    "\n",
    "$x2 = 1$\n",
    "\n",
    "$v2 = 2$ \n",
    "\n",
    "After one jump, they are both at $x = 3$,$ (x1 + v1 = 2 + 1, x2 + v2 = 1 + 2 )$, so the answer is `YES`.\n",
    "\n",
    "**Function Description**\n",
    "\n",
    "Complete the function *kangaroo* in the editor below.\n",
    "\n",
    "kangaroo has the following parameter(s):\n",
    "\n",
    "- *int x1, int v1*: starting position and jump distance for kangaroo 1\n",
    "- *int x2, int v2*: starting position and jump distance for kangaroo 2\n",
    "\n",
    "**Returns**\n",
    "\n",
    "- *string:* either `YES` or `NO`\n",
    "\n",
    "**Input Format**\n",
    "\n",
    "A single line of four space-separated integers denoting the respective values of $x1$, $v1$, $x2$, and $v2$.\n",
    "\n",
    "**Sample Input 0**\n",
    "\n",
    "<code>0 3 4 2</code>\n",
    "\n",
    "**Sample Output 0**\n",
    "\n",
    "<code>YES</code>\n",
    "\n",
    "**Explanation 0**\n",
    "\n",
    "The two kangaroos jump through the following sequence of locations:\n",
    "\n",
    "![image](https://s3.amazonaws.com/hr-assets/0/1516005283-e74e76ff0c-kangaroo.png)\n",
    "\n",
    "From the image, it is clear that the kangaroos meet at the same location (number $12$ on the number line) after same number of jumps ($4$ jumps), and we print `YES`.\n",
    "\n",
    "**Sample Input 1**\n",
    "\n",
    "<code>0 2 5 3</code>\n",
    "\n",
    "**Sample Output 1**\n",
    "\n",
    "<code>NO</code>\n",
    "\n",
    "**Explanation 1**\n",
    "\n",
    "The second kangaroo has a starting location that is ahead (further to the right) of the first kangaroo's starting location (i.e., $x2 > x1$ ). Because the second kangaroo moves at a faster rate (meaning $v2 > v1$) *and* is already ahead of the first kangaroo, the first kangaroo will never be able to catch up. Thus, we print *NO*.\n"
   ]
  },
  {
   "cell_type": "code",
   "execution_count": 22,
   "metadata": {},
   "outputs": [],
   "source": [
    "def kangaroo(x1, v1, x2, v2):\n",
    "    if (v1!=v2) :\n",
    "        n = (x2-x1)/(v1-v2)\n",
    "        if (n%1==0) and (n>=0):\n",
    "            return 'YES'\n",
    "        else :\n",
    "            return \"NO\"\n",
    "    else :\n",
    "        return \"NO\"\n",
    "    "
   ]
  },
  {
   "cell_type": "code",
   "execution_count": 23,
   "metadata": {},
   "outputs": [
    {
     "data": {
      "text/plain": [
       "'NO'"
      ]
     },
     "execution_count": 23,
     "metadata": {},
     "output_type": "execute_result"
    }
   ],
   "source": [
    "kangaroo(43,2,70,2)"
   ]
  }
 ],
 "metadata": {
  "kernelspec": {
   "display_name": "Python 3",
   "language": "python",
   "name": "python3"
  },
  "language_info": {
   "codemirror_mode": {
    "name": "ipython",
    "version": 3
   },
   "file_extension": ".py",
   "mimetype": "text/x-python",
   "name": "python",
   "nbconvert_exporter": "python",
   "pygments_lexer": "ipython3",
   "version": "3.7.6"
  }
 },
 "nbformat": 4,
 "nbformat_minor": 4
}
