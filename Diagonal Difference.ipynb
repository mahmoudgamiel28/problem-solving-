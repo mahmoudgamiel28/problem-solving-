{
 "cells": [
  {
   "cell_type": "markdown",
   "metadata": {},
   "source": [
    "Given a square matrix, calculate the absolute difference between the sums of its diagonals.<br>\n",
    "For example, the square matrix <i>**arr**</i>  is shown below:<br>\n",
    "<code>1 2 3\n",
    "4 5 6\n",
    "9 8 9</code><br>\n",
    "The left-to-right diagonal = **1 + 5 + 9 = 15**.<br>\n",
    "The right to left diagonal = **3 + 5 + 9 = 17**.<br>\n",
    "heir absolute difference = **| 15 - 19 |**.<br>\n",
    "**Function description**<br>\n",
    "Complete the <i>**Function description**</i>unction in the editor below<br>\n",
    "diagonalDifference takes the following parameter:<br>\n",
    "> int arr[n][m]: an array of integers <br>\n",
    "\n",
    "**Return**\n",
    "> int: the absolute diagonal difference\n",
    "\n",
    "**Input Format**<br>\n",
    "The first line contains a single integer,<i>**n**</i> the number of rows and columns in the square matrix <i>**arr**.</i><br>\n",
    "Each of the next <i>**n**</i> lines describes a row,<i> **arr[i]**.</i> , and consists of <i>**n**</i> space-separated integers <i> **arr[i][j]**.</i><br>\n",
    "**Constraints**<br>\n",
    "> <i>**-100 &le; arr[i][j] &le; 100** </i><br>\n",
    "\n",
    "**Output Format**<br>\n",
    "Return the absolute difference between the sums of the matrix's two diagonals as a single integer<br>\n",
    "**Sample Input**<br>\n",
    "<code>11 2 4\n",
    "4 5 6\n",
    "10 8 -12</code><br>\n",
    "**Sample Output**<br>\n",
    "<code>15</code><br>\n",
    "**Explanation**<br>\n",
    "The primary diagonal is:<br>\n",
    "<code>11\n",
    "   5\n",
    "     -12</code><br>\n",
    "Sum across the primary diagonal: 11 + 5 - 12 = 4<br>\n",
    "The secondary diagonal is:<br>\n",
    "<code>     4\n",
    "   5\n",
    "10</code><br>\n",
    "Sum across the secondary diagonal: 4 + 5 + 10 = 19<br>\n",
    "Difference: |4 - 19| = 15"
   ]
  },
  {
   "cell_type": "markdown",
   "metadata": {},
   "source": [
    "---\n",
    "___\n",
    "***"
   ]
  },
  {
   "cell_type": "code",
   "execution_count": 33,
   "metadata": {},
   "outputs": [],
   "source": [
    "def diagonalDifference(arr):\n",
    "    arr\n",
    "    sumfrist=0 \n",
    "    for i in range(len(arr)):\n",
    "        sumfrist+=arr[i][i]\n",
    "    sumsecond=0 \n",
    "    for i in range(len(arr)):\n",
    "        sumsecond+=arr[i][len(arr)-(1+i)]  \n",
    "    total = sumsecond-sumfrist\n",
    "    if total>0 :\n",
    "        return total\n",
    "    else:\n",
    "        return -total"
   ]
  }
 ],
 "metadata": {
  "kernelspec": {
   "display_name": "Python 3",
   "language": "python",
   "name": "python3"
  },
  "language_info": {
   "codemirror_mode": {
    "name": "ipython",
    "version": 3
   },
   "file_extension": ".py",
   "mimetype": "text/x-python",
   "name": "python",
   "nbconvert_exporter": "python",
   "pygments_lexer": "ipython3",
   "version": "3.7.6"
  }
 },
 "nbformat": 4,
 "nbformat_minor": 4
}
